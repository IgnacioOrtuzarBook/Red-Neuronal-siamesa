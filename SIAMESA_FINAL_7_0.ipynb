{
  "cells": [
    {
      "cell_type": "markdown",
      "metadata": {
        "id": "l4QTsowTUbQ6"
      },
      "source": [
        "# Twin neural network para UPLIFT"
      ]
    },
    {
      "cell_type": "markdown",
      "metadata": {
        "id": "zzWJISbYXOVS"
      },
      "source": [
        "## I - Introduccion"
      ]
    },
    {
      "cell_type": "markdown",
      "metadata": {
        "id": "5tYvVnv8YiCs"
      },
      "source": [
        "Este experimento tiene como objetivo principal desarrollar e implementar el framework propuesto por XXX en su paper ZZZ para el desarrollo de una red neural que fuese capaz de obtimizar el rendimiento de la aplicacion de UPLIFT.\n",
        "\n",
        "Acá se usa el dataset (con un preprocesamiento hecho) que esta compuesto por los resultados de una campaña de marketing desarrollada durante el año 2021 a una población aproximada de 5.000 personas.\n",
        "\n",
        "La motivación de este experimento es sentar las bases de un código inicial que pueda ser usado por otras personas y que además, se preste la capacidad de contribución con el fin del desarrollo de una mejora continua del mismo.\n",
        "\n",
        "Sobre UPLIFT y este experimento hay que tener en cuenta:\n",
        "\n",
        "\n",
        "\n",
        "1.   **UPLIFT**: en este experimento el enfoque principal de la aplicacion de uplift es para campañas de marketing, con el fin de obtimizar el profit de la misma, a sabiendas que uplift no solo puede ser usado para campañas de marketing, tambien puede ser usado para investigacion en el area de la salud, campañas politicas y cualquier otro estudio donde se busque identificar la parte de una población mas proprensa a responder a un estimulo o alguna otra intervención\n",
        "\n",
        "2.   **Grupos**: como si se tratara de una prueba **A y B** uplift implementa una separacion de la población en dos grupos, un grupo de control y un grupo de tratamiento. El grupo de tratamiento es aquel que recibe el estimulo, mientras que el grupo de control sirve para comparacion, la diferencia entre estos, es la base fundamental de uplift\n",
        "\n",
        "3.   **Objetivo**: se busca implementar el framework propuesto por XXX y ZZZ y de esta forma obtener los resultados para posteriormente compararlos con otros experimentos realizados\n",
        "\n",
        "4.   **Metodologia**: se experimenta con un datasets generado con el unico proposito de llevar a cabo esta investigacion, el mismo durante su desarrollo se separo en dos grupos donde *group ∈ { 1, 0 }* (segun nuestro dataset) y representa la pertenencia o no al grupo de tratamiento. Para este desarrollo se usa la libreria Keras que servirá para la creación de la red neuronal\n",
        "\n",
        "5.   **Motiviacion de uplift**: a diferencia de los metodos tradicionales de clasificacion o regresion, uplift no tiene como objetivo principal determinar si una persona respondera o no de forma positiva a una campaña de marketing, en lugar de eso se busca evaluar cuan persuadiable es este con el fin de aumentar el rendimiento de la campaña y evitar así enfocarse en otros grupos de personas que pueden ser una compra segura indiferentemente de si recibieron un estimulo, asi como aquellos que son caso perdido o aquellos que simplemente tendran una respuesta negativa al estimulo\n",
        "\n",
        "6.   **Resultados**: \n",
        "\n",
        "\n",
        "\n",
        "\n"
      ]
    },
    {
      "cell_type": "markdown",
      "metadata": {
        "id": "nE_G0dfigbH7"
      },
      "source": [
        "## II - Work Flow del experimento"
      ]
    },
    {
      "cell_type": "markdown",
      "metadata": {
        "id": "90AZFwsHgjob"
      },
      "source": []
    },
    {
      "cell_type": "markdown",
      "metadata": {
        "id": "7qAY4rfWgnUy"
      },
      "source": [
        "# 1- Setup"
      ]
    },
    {
      "cell_type": "code",
      "execution_count": null,
      "metadata": {
        "colab": {
          "base_uri": "https://localhost:8080/"
        },
        "id": "EEpFZIaRgzy7",
        "outputId": "d7ace868-b300-4b99-b9be-62ff66213f97"
      },
      "outputs": [
        {
          "output_type": "stream",
          "name": "stdout",
          "text": [
            "Looking in indexes: https://pypi.org/simple, https://us-python.pkg.dev/colab-wheels/public/simple/\n",
            "Requirement already satisfied: pip in /usr/local/lib/python3.8/dist-packages (22.0.4)\n",
            "Collecting install\n",
            "  Downloading install-1.3.5-py3-none-any.whl (3.2 kB)\n",
            "Collecting scikit-uplift\n",
            "  Downloading scikit_uplift-0.5.1-py3-none-any.whl (42 kB)\n",
            "\u001b[2K     \u001b[90m━━━━━━━━━━━━━━━━━━━━━━━━━━━━━━━━━━━━━━━━\u001b[0m \u001b[32m42.1/42.1 KB\u001b[0m \u001b[31m2.9 MB/s\u001b[0m eta \u001b[36m0:00:00\u001b[0m\n",
            "\u001b[?25hRequirement already satisfied: tqdm in /usr/local/lib/python3.8/dist-packages (from scikit-uplift) (4.64.1)\n",
            "Requirement already satisfied: numpy>=1.16 in /usr/local/lib/python3.8/dist-packages (from scikit-uplift) (1.22.4)\n",
            "Requirement already satisfied: matplotlib in /usr/local/lib/python3.8/dist-packages (from scikit-uplift) (3.5.3)\n",
            "Requirement already satisfied: pandas in /usr/local/lib/python3.8/dist-packages (from scikit-uplift) (1.3.5)\n",
            "Requirement already satisfied: requests in /usr/local/lib/python3.8/dist-packages (from scikit-uplift) (2.25.1)\n",
            "Requirement already satisfied: scikit-learn>=0.21.0 in /usr/local/lib/python3.8/dist-packages (from scikit-uplift) (1.0.2)\n",
            "Requirement already satisfied: threadpoolctl>=2.0.0 in /usr/local/lib/python3.8/dist-packages (from scikit-learn>=0.21.0->scikit-uplift) (3.1.0)\n",
            "Requirement already satisfied: joblib>=0.11 in /usr/local/lib/python3.8/dist-packages (from scikit-learn>=0.21.0->scikit-uplift) (1.2.0)\n",
            "Requirement already satisfied: scipy>=1.1.0 in /usr/local/lib/python3.8/dist-packages (from scikit-learn>=0.21.0->scikit-uplift) (1.7.3)\n",
            "Requirement already satisfied: cycler>=0.10 in /usr/local/lib/python3.8/dist-packages (from matplotlib->scikit-uplift) (0.11.0)\n",
            "Requirement already satisfied: kiwisolver>=1.0.1 in /usr/local/lib/python3.8/dist-packages (from matplotlib->scikit-uplift) (1.4.4)\n",
            "Requirement already satisfied: pyparsing>=2.2.1 in /usr/local/lib/python3.8/dist-packages (from matplotlib->scikit-uplift) (3.0.9)\n",
            "Requirement already satisfied: pillow>=6.2.0 in /usr/local/lib/python3.8/dist-packages (from matplotlib->scikit-uplift) (8.4.0)\n",
            "Requirement already satisfied: packaging>=20.0 in /usr/local/lib/python3.8/dist-packages (from matplotlib->scikit-uplift) (23.0)\n",
            "Requirement already satisfied: python-dateutil>=2.7 in /usr/local/lib/python3.8/dist-packages (from matplotlib->scikit-uplift) (2.8.2)\n",
            "Requirement already satisfied: fonttools>=4.22.0 in /usr/local/lib/python3.8/dist-packages (from matplotlib->scikit-uplift) (4.38.0)\n",
            "Requirement already satisfied: pytz>=2017.3 in /usr/local/lib/python3.8/dist-packages (from pandas->scikit-uplift) (2022.7.1)\n",
            "Requirement already satisfied: chardet<5,>=3.0.2 in /usr/local/lib/python3.8/dist-packages (from requests->scikit-uplift) (4.0.0)\n",
            "Requirement already satisfied: certifi>=2017.4.17 in /usr/local/lib/python3.8/dist-packages (from requests->scikit-uplift) (2022.12.7)\n",
            "Requirement already satisfied: idna<3,>=2.5 in /usr/local/lib/python3.8/dist-packages (from requests->scikit-uplift) (2.10)\n",
            "Requirement already satisfied: urllib3<1.27,>=1.21.1 in /usr/local/lib/python3.8/dist-packages (from requests->scikit-uplift) (1.26.14)\n",
            "Requirement already satisfied: six>=1.5 in /usr/local/lib/python3.8/dist-packages (from python-dateutil>=2.7->matplotlib->scikit-uplift) (1.15.0)\n",
            "Installing collected packages: install, scikit-uplift\n",
            "Successfully installed install-1.3.5 scikit-uplift-0.5.1\n"
          ]
        }
      ],
      "source": [
        "#librerias necesarias para el proyecto\n",
        "import numpy as np\n",
        "import matplotlib.pyplot as plt\n",
        "import pandas as pd\n",
        "#!pip install q tensorflow==2.5.1\n",
        "#!pip install q keras==2.4.2\n",
        "\n",
        "from tensorflow.keras.layers import Input\n",
        "from tensorflow.keras.models import Model\n",
        "import tensorflow.keras.backend as K\n",
        "import tensorflow as tf\n",
        "from keras.layers.core import Dense, Dropout, Flatten \n",
        "from sklearn.model_selection import train_test_split\n",
        "#!pip install q keras==1.2.2\n",
        "import keras\n",
        "from keras.models import Sequential\n",
        "from tensorflow.keras.layers import Input\n",
        "from tensorflow.keras.layers import Lambda\n",
        "from keras.losses import mean_squared_error,binary_crossentropy\n",
        "from tensorflow.keras.layers import Dense\n",
        "\n",
        "\n",
        "from sklearn.compose import ColumnTransformer\n",
        "from sklearn.preprocessing import StandardScaler\n",
        "from sklearn.linear_model import LogisticRegression\n",
        "from sklearn.metrics import confusion_matrix\n",
        "import seaborn as sns\n",
        "from sklearn.metrics import classification_report\n",
        "from imblearn.under_sampling import NearMiss\n",
        "from imblearn.over_sampling import RandomOverSampler\n",
        "from imblearn.combine import SMOTETomek\n",
        "from imblearn.combine import SMOTEENN\n",
        "from collections import Counter\n",
        "from imblearn.ensemble import BalancedBaggingClassifier\n",
        "from sklearn.tree import DecisionTreeClassifier\n",
        "from sklearn.utils import class_weight\n",
        "from keras.wrappers.scikit_learn import KerasClassifier\n",
        "\n",
        "from sklearn.model_selection import GridSearchCV\n",
        "\n",
        "!pip install pip install scikit-uplift\n",
        "from sklift.viz import plot_qini_curve\n",
        "from sklift.viz import plot_uplift_curve\n",
        "from sklift.viz import plot_uplift_by_percentile\n",
        "from sklift.metrics import qini_auc_score\n",
        "import math\n",
        "#from tensorflow import keras as kk\n",
        "import os\n",
        "import random\n",
        "\n",
        "\n"
      ]
    },
    {
      "cell_type": "code",
      "execution_count": null,
      "metadata": {
        "id": "YqNTwClWhwdq"
      },
      "outputs": [],
      "source": [
        "#importamos el dataframe con un preprocesamiento inicial hecho (este preprocesamiento y el dataset original se puede encontrar en XXX)\n",
        "df = pd.read_csv('dataframe.csv')\n",
        "\n",
        "\n",
        "\n"
      ]
    },
    {
      "cell_type": "code",
      "execution_count": null,
      "metadata": {
        "id": "aMpVY5eoip2s"
      },
      "outputs": [],
      "source": [
        "##clase utilidades, y configuraciones iniciales\n",
        "class utils:\n",
        "  def __init__(self , dataset):\n",
        "    self.dataset = dataset\n",
        "    self.balance( self.dataset )\n",
        "    self.alpha=0.05\n",
        "    self.optimizer=\"rmsprop\"\n",
        "    self.reg = 0.01\n",
        "    self.batch_size = 96\n",
        "    self.epochs = 45\n",
        "    self.input_dim = 29\n",
        "    self.shape0 = (29,)\n",
        "    self.shape1 = 1\n",
        "    self.test_size =0.3\n",
        "    self.ratio_balance='auto'\n",
        "    self.set_transformed_outcome( self.dataset )\n",
        "  ## es requerido q el total de observaciones de T sea igual en 1 y en 0\n",
        "  def balance(self , dataset   ):\n",
        "    self.dataset = dataset\n",
        "    qty=0\n",
        "    if( len(self.dataset[ self.dataset['group'] ==1 ]) > len(self.dataset[ self.dataset['group'] ==0 ]) ):\n",
        "      delete_in_group = 1\n",
        "      qty = len(self.dataset[ self.dataset['group'] ==1 ]) - len(self.dataset[ self.dataset['group'] ==0 ])\n",
        "    elif( len(self.dataset[ self.dataset['group'] == 0 ]) > len(self.dataset[ self.dataset['group'] ==1 ]) ):\n",
        "      delete_in_group = 0\n",
        "      qty = len(self.dataset[ self.dataset['group'] ==0 ]) - len(self.dataset[ self.dataset['group'] ==1 ])\n",
        "    else:\n",
        "      delete_in_group = -1\n",
        "    if( delete_in_group!=-1 ):\n",
        "      set_to_join_1 = self.dataset[ self.dataset['group'] != delete_in_group  ]\n",
        "      set_to_join_2 = self.dataset[ self.dataset['group'] == delete_in_group  ]\n",
        "      set_to_join_2_0 = set_to_join_2[ set_to_join_2['buy_campaing'] == 0  ]\n",
        "      set_to_join_2_1 = set_to_join_2[ set_to_join_2['buy_campaing'] == 1  ]\n",
        "\n",
        "      set_to_delete = set_to_join_2_0.iloc[0:len(set_to_join_2_0)-qty,:]\n",
        "\n",
        "      df = pd.DataFrame(data=set_to_delete)\n",
        "      self.dataset = pd.concat([set_to_join_1, set_to_delete, set_to_join_2_1])\n",
        "      return self.dataset\n",
        "  \n",
        "  def _replaceitem( self, x):\n",
        "    if( x >= 0.5 ):\n",
        "      return 1\n",
        "    return 0\n",
        "\n",
        "  def clean_list(  self,list  ):\n",
        "    new_list = []\n",
        "    for index_ in range(len(list)):\n",
        "      j = list[index_]\n",
        "      new_list.append( (j[0]) )\n",
        "    return new_list\n",
        "      \n",
        "\n",
        "  #aplicamos la transformacion de clases\n",
        "  def set_transformed_outcome( self , dataset_  ):\n",
        "    self.dataset = dataset_\n",
        "    self.dataset[\"z\"] = 0;\n",
        "    self.dataset.loc[ (self.dataset['buy_campaing'] == 1) & (self.dataset['group'] == 1) , 'z' ] = 2\n",
        "    self.dataset.loc[ (self.dataset['buy_campaing'] == 1) & (self.dataset['group'] == 0) , 'z' ] = -2\n",
        "    return self.dataset\n",
        "\n",
        "  #esta red tiene un estructura similar a la que se implementara en la red siamesa, el unico proposito de esta es analizar los metodos de balanceo\n",
        "  def build_rn( self, optimizer = '' , dropout_rate=0.0  , activation = \"relu\" , neurons= 15):\n",
        "    if( optimizer ==\"\"):\n",
        "      optimizer = self.optimizer    \n",
        "    classifier = Sequential()\n",
        "    classifier.add(Dense( neurons , activation = activation, input_dim = utils.input_dim  , input_shape=utils.shape0 , name=\"layer1\") )\n",
        "    classifier.add(Dropout(dropout_rate))\n",
        "    classifier.add(Dense(units = 10, activation = \"relu\", name=\"layer2\"))\n",
        "    classifier.add(Dropout(dropout_rate))\n",
        "    classifier.add(Dense(units = 1, kernel_initializer = \"uniform\",  activation = \"sigmoid\", name=\"layer3\"))\n",
        "\n",
        "    classifier.compile( optimizer= optimizer, loss=\"binary_crossentropy\" , metrics=[\"accuracy\"],\n",
        "                        )\n",
        "    \n",
        "    return classifier\n",
        "\n",
        "\n",
        "  \n",
        "\n",
        "\n",
        "\n",
        "\n",
        "\n",
        "\n",
        "\n",
        "  ## calcular los pesos\n",
        "  '''def get_weights( self, y_train ):\n",
        "    weights_ = class_weight.compute_class_weight(\n",
        "                                                 np.unique(y_train),\n",
        "                                                 y_train)\n",
        "    weights_ = { 0 : weights_[0] , 1:weights_[1]  }\n",
        "    return weights_\n",
        "\n",
        "  ##para generar los pares'''\n",
        "  def make_pairs(self, X_test , z ):\n",
        "    input1 = X_test.copy()\n",
        "    input2 = X_test.copy()\n",
        "\n",
        "    input1 = np.hstack(( input1, np.zeros(( input1.shape[0], 1), dtype= input1.dtype)))\n",
        "    input2 = np.hstack(( input2, np.zeros(( input2.shape[0], 1), dtype= input2.dtype)))\n",
        "    input2[:,-1] = 1 #input 0 con T = 1 \n",
        "    input1[:,-1] = 0 #input 1 con T = 0 \n",
        "\n",
        "    return [input1, input2], z\n",
        "\n",
        "  \n",
        "    \n",
        "\n",
        "\n",
        "\n",
        "utils = utils( df )\n",
        "dataset = utils.balance( df )\n",
        "dataset = utils.set_transformed_outcome( dataset )\n",
        "seed_value= 333\n",
        "os.environ['PYTHONHASHSEED']=str(seed_value)\n",
        "random.seed(seed_value)\n",
        "np.random.seed(seed_value)\n",
        "tf.random.set_seed(seed_value)"
      ]
    },
    {
      "cell_type": "markdown",
      "metadata": {
        "id": "JuuCQRZ9jDo5"
      },
      "source": [
        "# 2 - Exploración de los datos"
      ]
    },
    {
      "cell_type": "markdown",
      "metadata": {
        "id": "AfX99LdWjUIT"
      },
      "source": [
        "Podemos observar que el dataset usado contiene un procesamiento previo, para este caso resalta el caso de las comunas que ya estan convertidas en variables dummies"
      ]
    },
    {
      "cell_type": "code",
      "execution_count": null,
      "metadata": {
        "colab": {
          "base_uri": "https://localhost:8080/"
        },
        "id": "KqjKbHhQjM6S",
        "outputId": "d2a07e66-5a7e-4979-d36a-99e024490b14"
      },
      "outputs": [
        {
          "output_type": "execute_result",
          "data": {
            "text/plain": [
              "   group  gender  year_birth  total_orders  total_m  total_f  total_o  \\\n",
              "0      1       1           3             5        0   627510        0   \n",
              "2      1       1           3             5        0   465159        0   \n",
              "4      1       1           3             7        0   384755        0   \n",
              "5      1       1           3             2        0   375652        0   \n",
              "6      1       1           4             5        0   264230   101410   \n",
              "\n",
              "   regency  abandoned_cars  recupered_cars  ...  maipu  nunoa  penalolen  \\\n",
              "0       14               0               0  ...      0      0          0   \n",
              "2        9               1               1  ...      0      0          0   \n",
              "4       21               1               0  ...      0      0          0   \n",
              "5        5               0               0  ...      0      0          0   \n",
              "6       12               0               0  ...      0      0          0   \n",
              "\n",
              "   providencia  puente alto  puerto montt  punta arenas  rancagua  \\\n",
              "0            0            0             0             0         0   \n",
              "2            0            0             0             0         0   \n",
              "4            0            0             0             0         0   \n",
              "5            0            0             0             0         0   \n",
              "6            0            0             0             0         0   \n",
              "\n",
              "   buy_campaing  z  \n",
              "0             1  2  \n",
              "2             1  2  \n",
              "4             1  2  \n",
              "5             1  2  \n",
              "6             0  0  \n",
              "\n",
              "[5 rows x 30 columns]"
            ],
            "text/html": [
              "\n",
              "  <div id=\"df-fbb8cf68-01c4-4307-b021-c9e397ec35e7\">\n",
              "    <div class=\"colab-df-container\">\n",
              "      <div>\n",
              "<style scoped>\n",
              "    .dataframe tbody tr th:only-of-type {\n",
              "        vertical-align: middle;\n",
              "    }\n",
              "\n",
              "    .dataframe tbody tr th {\n",
              "        vertical-align: top;\n",
              "    }\n",
              "\n",
              "    .dataframe thead th {\n",
              "        text-align: right;\n",
              "    }\n",
              "</style>\n",
              "<table border=\"1\" class=\"dataframe\">\n",
              "  <thead>\n",
              "    <tr style=\"text-align: right;\">\n",
              "      <th></th>\n",
              "      <th>group</th>\n",
              "      <th>gender</th>\n",
              "      <th>year_birth</th>\n",
              "      <th>total_orders</th>\n",
              "      <th>total_m</th>\n",
              "      <th>total_f</th>\n",
              "      <th>total_o</th>\n",
              "      <th>regency</th>\n",
              "      <th>abandoned_cars</th>\n",
              "      <th>recupered_cars</th>\n",
              "      <th>...</th>\n",
              "      <th>maipu</th>\n",
              "      <th>nunoa</th>\n",
              "      <th>penalolen</th>\n",
              "      <th>providencia</th>\n",
              "      <th>puente alto</th>\n",
              "      <th>puerto montt</th>\n",
              "      <th>punta arenas</th>\n",
              "      <th>rancagua</th>\n",
              "      <th>buy_campaing</th>\n",
              "      <th>z</th>\n",
              "    </tr>\n",
              "  </thead>\n",
              "  <tbody>\n",
              "    <tr>\n",
              "      <th>0</th>\n",
              "      <td>1</td>\n",
              "      <td>1</td>\n",
              "      <td>3</td>\n",
              "      <td>5</td>\n",
              "      <td>0</td>\n",
              "      <td>627510</td>\n",
              "      <td>0</td>\n",
              "      <td>14</td>\n",
              "      <td>0</td>\n",
              "      <td>0</td>\n",
              "      <td>...</td>\n",
              "      <td>0</td>\n",
              "      <td>0</td>\n",
              "      <td>0</td>\n",
              "      <td>0</td>\n",
              "      <td>0</td>\n",
              "      <td>0</td>\n",
              "      <td>0</td>\n",
              "      <td>0</td>\n",
              "      <td>1</td>\n",
              "      <td>2</td>\n",
              "    </tr>\n",
              "    <tr>\n",
              "      <th>2</th>\n",
              "      <td>1</td>\n",
              "      <td>1</td>\n",
              "      <td>3</td>\n",
              "      <td>5</td>\n",
              "      <td>0</td>\n",
              "      <td>465159</td>\n",
              "      <td>0</td>\n",
              "      <td>9</td>\n",
              "      <td>1</td>\n",
              "      <td>1</td>\n",
              "      <td>...</td>\n",
              "      <td>0</td>\n",
              "      <td>0</td>\n",
              "      <td>0</td>\n",
              "      <td>0</td>\n",
              "      <td>0</td>\n",
              "      <td>0</td>\n",
              "      <td>0</td>\n",
              "      <td>0</td>\n",
              "      <td>1</td>\n",
              "      <td>2</td>\n",
              "    </tr>\n",
              "    <tr>\n",
              "      <th>4</th>\n",
              "      <td>1</td>\n",
              "      <td>1</td>\n",
              "      <td>3</td>\n",
              "      <td>7</td>\n",
              "      <td>0</td>\n",
              "      <td>384755</td>\n",
              "      <td>0</td>\n",
              "      <td>21</td>\n",
              "      <td>1</td>\n",
              "      <td>0</td>\n",
              "      <td>...</td>\n",
              "      <td>0</td>\n",
              "      <td>0</td>\n",
              "      <td>0</td>\n",
              "      <td>0</td>\n",
              "      <td>0</td>\n",
              "      <td>0</td>\n",
              "      <td>0</td>\n",
              "      <td>0</td>\n",
              "      <td>1</td>\n",
              "      <td>2</td>\n",
              "    </tr>\n",
              "    <tr>\n",
              "      <th>5</th>\n",
              "      <td>1</td>\n",
              "      <td>1</td>\n",
              "      <td>3</td>\n",
              "      <td>2</td>\n",
              "      <td>0</td>\n",
              "      <td>375652</td>\n",
              "      <td>0</td>\n",
              "      <td>5</td>\n",
              "      <td>0</td>\n",
              "      <td>0</td>\n",
              "      <td>...</td>\n",
              "      <td>0</td>\n",
              "      <td>0</td>\n",
              "      <td>0</td>\n",
              "      <td>0</td>\n",
              "      <td>0</td>\n",
              "      <td>0</td>\n",
              "      <td>0</td>\n",
              "      <td>0</td>\n",
              "      <td>1</td>\n",
              "      <td>2</td>\n",
              "    </tr>\n",
              "    <tr>\n",
              "      <th>6</th>\n",
              "      <td>1</td>\n",
              "      <td>1</td>\n",
              "      <td>4</td>\n",
              "      <td>5</td>\n",
              "      <td>0</td>\n",
              "      <td>264230</td>\n",
              "      <td>101410</td>\n",
              "      <td>12</td>\n",
              "      <td>0</td>\n",
              "      <td>0</td>\n",
              "      <td>...</td>\n",
              "      <td>0</td>\n",
              "      <td>0</td>\n",
              "      <td>0</td>\n",
              "      <td>0</td>\n",
              "      <td>0</td>\n",
              "      <td>0</td>\n",
              "      <td>0</td>\n",
              "      <td>0</td>\n",
              "      <td>0</td>\n",
              "      <td>0</td>\n",
              "    </tr>\n",
              "  </tbody>\n",
              "</table>\n",
              "<p>5 rows × 30 columns</p>\n",
              "</div>\n",
              "      <button class=\"colab-df-convert\" onclick=\"convertToInteractive('df-fbb8cf68-01c4-4307-b021-c9e397ec35e7')\"\n",
              "              title=\"Convert this dataframe to an interactive table.\"\n",
              "              style=\"display:none;\">\n",
              "        \n",
              "  <svg xmlns=\"http://www.w3.org/2000/svg\" height=\"24px\"viewBox=\"0 0 24 24\"\n",
              "       width=\"24px\">\n",
              "    <path d=\"M0 0h24v24H0V0z\" fill=\"none\"/>\n",
              "    <path d=\"M18.56 5.44l.94 2.06.94-2.06 2.06-.94-2.06-.94-.94-2.06-.94 2.06-2.06.94zm-11 1L8.5 8.5l.94-2.06 2.06-.94-2.06-.94L8.5 2.5l-.94 2.06-2.06.94zm10 10l.94 2.06.94-2.06 2.06-.94-2.06-.94-.94-2.06-.94 2.06-2.06.94z\"/><path d=\"M17.41 7.96l-1.37-1.37c-.4-.4-.92-.59-1.43-.59-.52 0-1.04.2-1.43.59L10.3 9.45l-7.72 7.72c-.78.78-.78 2.05 0 2.83L4 21.41c.39.39.9.59 1.41.59.51 0 1.02-.2 1.41-.59l7.78-7.78 2.81-2.81c.8-.78.8-2.07 0-2.86zM5.41 20L4 18.59l7.72-7.72 1.47 1.35L5.41 20z\"/>\n",
              "  </svg>\n",
              "      </button>\n",
              "      \n",
              "  <style>\n",
              "    .colab-df-container {\n",
              "      display:flex;\n",
              "      flex-wrap:wrap;\n",
              "      gap: 12px;\n",
              "    }\n",
              "\n",
              "    .colab-df-convert {\n",
              "      background-color: #E8F0FE;\n",
              "      border: none;\n",
              "      border-radius: 50%;\n",
              "      cursor: pointer;\n",
              "      display: none;\n",
              "      fill: #1967D2;\n",
              "      height: 32px;\n",
              "      padding: 0 0 0 0;\n",
              "      width: 32px;\n",
              "    }\n",
              "\n",
              "    .colab-df-convert:hover {\n",
              "      background-color: #E2EBFA;\n",
              "      box-shadow: 0px 1px 2px rgba(60, 64, 67, 0.3), 0px 1px 3px 1px rgba(60, 64, 67, 0.15);\n",
              "      fill: #174EA6;\n",
              "    }\n",
              "\n",
              "    [theme=dark] .colab-df-convert {\n",
              "      background-color: #3B4455;\n",
              "      fill: #D2E3FC;\n",
              "    }\n",
              "\n",
              "    [theme=dark] .colab-df-convert:hover {\n",
              "      background-color: #434B5C;\n",
              "      box-shadow: 0px 1px 3px 1px rgba(0, 0, 0, 0.15);\n",
              "      filter: drop-shadow(0px 1px 2px rgba(0, 0, 0, 0.3));\n",
              "      fill: #FFFFFF;\n",
              "    }\n",
              "  </style>\n",
              "\n",
              "      <script>\n",
              "        const buttonEl =\n",
              "          document.querySelector('#df-fbb8cf68-01c4-4307-b021-c9e397ec35e7 button.colab-df-convert');\n",
              "        buttonEl.style.display =\n",
              "          google.colab.kernel.accessAllowed ? 'block' : 'none';\n",
              "\n",
              "        async function convertToInteractive(key) {\n",
              "          const element = document.querySelector('#df-fbb8cf68-01c4-4307-b021-c9e397ec35e7');\n",
              "          const dataTable =\n",
              "            await google.colab.kernel.invokeFunction('convertToInteractive',\n",
              "                                                     [key], {});\n",
              "          if (!dataTable) return;\n",
              "\n",
              "          const docLinkHtml = 'Like what you see? Visit the ' +\n",
              "            '<a target=\"_blank\" href=https://colab.research.google.com/notebooks/data_table.ipynb>data table notebook</a>'\n",
              "            + ' to learn more about interactive tables.';\n",
              "          element.innerHTML = '';\n",
              "          dataTable['output_type'] = 'display_data';\n",
              "          await google.colab.output.renderOutput(dataTable, element);\n",
              "          const docLink = document.createElement('div');\n",
              "          docLink.innerHTML = docLinkHtml;\n",
              "          element.appendChild(docLink);\n",
              "        }\n",
              "      </script>\n",
              "    </div>\n",
              "  </div>\n",
              "  "
            ]
          },
          "metadata": {},
          "execution_count": 4
        }
      ],
      "source": [
        "dataset.head(5)"
      ]
    },
    {
      "cell_type": "code",
      "execution_count": null,
      "metadata": {
        "colab": {
          "base_uri": "https://localhost:8080/"
        },
        "id": "ibeHy9i6jx6i",
        "outputId": "efc8d724-6879-44fb-8612-f8682c5c227f"
      },
      "outputs": [
        {
          "output_type": "display_data",
          "data": {
            "text/plain": [
              "False"
            ]
          },
          "metadata": {}
        }
      ],
      "source": [
        "#nos aseguramos que no existan datos nulos\n",
        "display(dataset.isnull().values.any())"
      ]
    },
    {
      "cell_type": "markdown",
      "metadata": {
        "id": "bSoD3mUDmuYM"
      },
      "source": [
        "En el periodo comprendido de la campaña se obtuvo una media de respuesta de aproximadamente el 3%, esto implica que una clase 0 de la variable dependiente tendra mas peso en el clasificador. Para resolver esto necesitaremos aumentar este valor mediante tecnicas de balanceo"
      ]
    },
    {
      "cell_type": "code",
      "execution_count": null,
      "metadata": {
        "colab": {
          "base_uri": "https://localhost:8080/"
        },
        "id": "ELwxpSWGmhYV",
        "outputId": "191700b2-bf5b-4723-e909-df9a81fc6713"
      },
      "outputs": [
        {
          "output_type": "execute_result",
          "data": {
            "text/plain": [
              "3.2804459691252146"
            ]
          },
          "metadata": {},
          "execution_count": 6
        }
      ],
      "source": [
        "dataset[\"buy_campaing\"].mean()*100"
      ]
    },
    {
      "cell_type": "markdown",
      "metadata": {
        "id": "WOcOMtiJnZ2t"
      },
      "source": [
        "# 3-  Preprocesamiento de los datos"
      ]
    },
    {
      "cell_type": "markdown",
      "metadata": {
        "id": "4QwPHutBniPr"
      },
      "source": [
        "En vista de que este dataset ya tiene un preprocesamiento hecho, solo nos concentraremos en realizar el balanceo de la clase minoritaria ( ***y = 1*** ) para mejorar el rendimiento de la red"
      ]
    },
    {
      "cell_type": "code",
      "execution_count": null,
      "metadata": {
        "id": "xrt-52G8pN0s"
      },
      "outputs": [],
      "source": [
        "#usamos esta funcion para mostrar en barras la diferencia entre cada clase\n",
        "def show_dif( data , title =\"\"):\n",
        "  LABELS = [\"No compra\",\"Compra\"]\n",
        "  count_classes = pd.value_counts(data, sort = True)\n",
        "  count_classes.plot(kind = 'bar', rot=0)\n",
        "  plt.xticks(range(2), LABELS)\n",
        "  plt.title(\"Frecuencia de clases - \"+title)\n",
        "  plt.xlabel(\"Resultado\")\n",
        "  plt.ylabel(\"Observaciones\");\n",
        "\n",
        "#esta funcion servira para obtener las metricas de rendimiento de la red en base al metodo de balanceo actual\n",
        "def show_results(y_test, pred_y , title =\"Confusion matrix\" ):\n",
        "    print(\"*****************\"+title+\"************************\")\n",
        "    LABELS = [\"No compra\",\"Compra\"]\n",
        "    conf_matrix = confusion_matrix(y_test, pred_y)\n",
        "    plt.figure(figsize=(8, 8))\n",
        "    sns.heatmap(conf_matrix, xticklabels=LABELS, yticklabels=LABELS, annot=True, fmt=\"d\");\n",
        "    plt.title( title )\n",
        "    plt.ylabel('Clase real')\n",
        "    plt.xlabel('Clase predicha')\n",
        "    plt.show()\n",
        "    show_dif( pred_y , title )\n",
        "    print(classification_report(y_test, pred_y))\n",
        "    return classification_report(y_test, pred_y , output_dict=True)\n",
        "\n"
      ]
    },
    {
      "cell_type": "markdown",
      "metadata": {
        "id": "IoQ2knB9stAM"
      },
      "source": [
        "Acá podemos ver la amplia diferencia que existe entre las dos clases"
      ]
    },
    {
      "cell_type": "code",
      "execution_count": null,
      "metadata": {
        "colab": {
          "base_uri": "https://localhost:8080/"
        },
        "id": "Cv6v733Fstg9",
        "outputId": "dc0a905f-8150-4599-b3f7-c0284460d17c"
      },
      "outputs": [
        {
          "output_type": "display_data",
          "data": {
            "text/plain": [
              "<Figure size 432x288 with 1 Axes>"
            ],
            "image/png": "[encoded data removed]"
          },
          "metadata": {
            "needs_background": "light"
          }
        }
      ],
      "source": [
        "show_dif( df['buy_campaing'] )"
      ]
    },
    {
      "cell_type": "markdown",
      "metadata": {
        "id": "g8rPPTLNvUhU"
      },
      "source": [
        "Antes de comenzar a experimentar con los metodos de balanceo, generamos un conjunto de prueba y de testing auxiliares que serviran para implementar el experimento de cada metodo"
      ]
    },
    {
      "cell_type": "code",
      "execution_count": null,
      "metadata": {
        "id": "5JYs9apzwH7M",
        "colab": {
          "base_uri": "https://localhost:8080/"
        },
        "outputId": "cebf69b9-2e52-4364-9af9-9e03533440c0"
      },
      "outputs": [
        {
          "output_type": "stream",
          "name": "stdout",
          "text": [
            "[1 1 1 ... 1 1 1]\n",
            "      group  gender  year_birth  total_orders  total_m  total_f  total_o  \\\n",
            "0         1       1           3             5        0   627510        0   \n",
            "2         1       1           3             5        0   465159        0   \n",
            "4         1       1           3             7        0   384755        0   \n",
            "5         1       1           3             2        0   375652        0   \n",
            "6         1       1           4             5        0   264230   101410   \n",
            "...     ...     ...         ...           ...      ...      ...      ...   \n",
            "3226      0       1           2             0        0        0        0   \n",
            "3255      0       1           2             0        0        0        0   \n",
            "3384      0       1           2             0        0        0        0   \n",
            "4241      0       1           3             0        0        0        0   \n",
            "4447      0       0           3             0        0        0        0   \n",
            "\n",
            "      regency  abandoned_cars  recupered_cars  ...  macul  maipu  nunoa  \\\n",
            "0          14               0               0  ...      0      0      0   \n",
            "2           9               1               1  ...      0      0      0   \n",
            "4          21               1               0  ...      0      0      0   \n",
            "5           5               0               0  ...      0      0      0   \n",
            "6          12               0               0  ...      0      0      0   \n",
            "...       ...             ...             ...  ...    ...    ...    ...   \n",
            "3226        5               0               0  ...      0      0      0   \n",
            "3255        0               0               0  ...      0      0      0   \n",
            "3384        5               0               0  ...      0      0      0   \n",
            "4241        0               1               0  ...      0      0      0   \n",
            "4447       19               0               0  ...      0      0      0   \n",
            "\n",
            "      penalolen  providencia  puente alto  puerto montt  punta arenas  \\\n",
            "0             0            0            0             0             0   \n",
            "2             0            0            0             0             0   \n",
            "4             0            0            0             0             0   \n",
            "5             0            0            0             0             0   \n",
            "6             0            0            0             0             0   \n",
            "...         ...          ...          ...           ...           ...   \n",
            "3226          0            0            0             0             0   \n",
            "3255          0            0            0             0             0   \n",
            "3384          0            0            0             0             0   \n",
            "4241          0            0            0             0             0   \n",
            "4447          0            0            0             0             0   \n",
            "\n",
            "      rancagua  z  \n",
            "0            0  2  \n",
            "2            0  2  \n",
            "4            0  2  \n",
            "5            0  2  \n",
            "6            0  0  \n",
            "...        ... ..  \n",
            "3226         1 -2  \n",
            "3255         0 -2  \n",
            "3384         0 -2  \n",
            "4241         0 -2  \n",
            "4447         0 -2  \n",
            "\n",
            "[4664 rows x 29 columns]\n"
          ]
        }
      ],
      "source": [
        "df_ = dataset.copy()\n",
        "y_aux = df_['buy_campaing'].values\n",
        "X_aux = df_.drop('buy_campaing', axis=1)\n",
        "print(y_aux)\n",
        "print(X_aux)\n",
        "X_train_aux_, X_test_aux_, y_train_aux_, y_test_aux_ = train_test_split(X_aux.values, y_aux, test_size = utils.test_size , stratify = y_aux )"
      ]
    },
    {
      "cell_type": "code",
      "execution_count": null,
      "metadata": {
        "id": "t8DUIcWmvVIr"
      },
      "outputs": [],
      "source": [
        "def get_result(X_train,X_test,y_train):\n",
        "  results = []\n",
        "  ##omitimos los binarios en el escalado\n",
        "  X_train = X_train[:, 0:29] #no consideramos z ni y\n",
        "  colums_convert = X_aux.columns[~X_aux.isin([0,1]).all()]\n",
        "  features = X_aux[ X_aux.columns ]\n",
        "\n",
        "  ct = ColumnTransformer([\n",
        "          ('data', StandardScaler(), colums_convert )\n",
        "      ], remainder='passthrough')\n",
        "\n",
        "  dataset_convert = ct.fit_transform(features)\n",
        "\n",
        "  X_test = X_test[:, 0:29] #no consideramos z ni y\n",
        "  colums_convert = X_aux.columns[~X_aux.isin([0,1]).all()]\n",
        "  features = X_aux[ X_aux.columns ]\n",
        "\n",
        "  ct = ColumnTransformer([\n",
        "          ('data', StandardScaler(), colums_convert )\n",
        "      ], remainder='passthrough')\n",
        "\n",
        "  dataset_convert = ct.fit_transform(features)\n",
        "\n",
        "  np.savetxt(\"pred1.csv\", features, delimiter=\",\")\n",
        "\n",
        "  ## SIN BALANCEO\n",
        "  classifier_nm = utils.build_rn()\n",
        "  classifier_nm.fit(X_train, y_train,epochs= utils.epochs,verbose=0 ,  batch_size=utils.batch_size)\n",
        "  print(\"Distribucion inicial {}\".format(Counter(y_train)))\n",
        "  print(\"Distribution final {}\".format(Counter(y_train)))\n",
        "  pred_y = classifier_nm.predict(X_test)\n",
        "  pred_y = utils.clean_list( pred_y )  \n",
        "  pred_y = list(map(utils._replaceitem , pred_y)) \n",
        "  results.append(show_results(y_test_aux_, pred_y , \"Sin balanceo\"))\n",
        "\n",
        "  ## resultado con balanceo de pesos (PENALTY)\n",
        "  classifier_nm = utils.build_rn()\n",
        "  classifier_nm.fit(X_train, y_train,epochs= utils.epochs,verbose=0  , batch_size=utils.batch_size)\n",
        "  print(\"Distribucion inicial {}\".format(Counter(y_train)))\n",
        "  print(\"Distribution final {}\".format(Counter(y_train)))\n",
        "  pred_y = classifier_nm.predict(X_test)\n",
        "  pred_y = utils.clean_list( pred_y )  \n",
        "  pred_y = list(map(utils._replaceitem , pred_y)) \n",
        "  results.append(show_results(y_test_aux_, pred_y , \"Balanceo por pesos o penalizacion\"))\n",
        "\n",
        "\n",
        "  ## resultado para NearMiss\n",
        "  us = NearMiss(ratio= utils.ratio_balance, n_neighbors=3, version=2, random_state=1)\n",
        "  classifier_nm = utils.build_rn()\n",
        "  X_train_res, y_train_res = us.fit_sample(X_train, y_train)\n",
        "  classifier_nm.fit(X_train_res, y_train_res,epochs= utils.epochs,verbose=1)\n",
        "  print(\"Distribucion inicial {}\".format(Counter(y_train)))\n",
        "  print(\"Distribution final {}\".format(Counter(y_train_res)))\n",
        "  pred_y = classifier_nm.predict(X_test)\n",
        "  pred_y = utils.clean_list( pred_y )  \n",
        "  pred_y = list(map(utils._replaceitem , pred_y)) \n",
        "  results.append(show_results(y_test_aux_, pred_y , \"NearMiss\"))\n",
        "  \n",
        "  ##resultados RandomOverSampler\n",
        "  os =  RandomOverSampler(ratio= utils.ratio_balance)\n",
        "  classifier_ros = utils.build_rn()\n",
        "  X_train_res, y_train_res = os.fit_sample(X_train, y_train)\n",
        "  classifier_ros.fit(X_train_res, y_train_res,epochs= utils.epochs,verbose=1)\n",
        "  print(\"Distribucion inicial {}\".format(Counter(y_train)))\n",
        "  print(\"Distribution final {}\".format(Counter(y_train_res)))\n",
        "  pred_y = classifier_ros.predict(X_test)\n",
        "  pred_y = utils.clean_list( pred_y )  \n",
        "  pred_y = list(map(utils._replaceitem , pred_y))\n",
        "  results.append(show_results(y_test_aux_, pred_y , \"RandomOverSampler\"))\n",
        "  \n",
        "\n",
        "  #resultados SMOTETomek\n",
        "  smot =  SMOTETomek(ratio= utils.ratio_balance)\n",
        "  classifier_smote = utils.build_rn()\n",
        "  X_train_res, y_train_res = smot.fit_sample(X_train, y_train)\n",
        "  classifier_smote.fit(X_train_res, y_train_res,epochs= utils.epochs,verbose=1)\n",
        "  print(\"Distribucion inicial {}\".format(Counter(y_train)))\n",
        "  print(\"Distribution final {}\".format(Counter(y_train_res)))\n",
        "  pred_y = classifier_smote.predict(X_test)\n",
        "  pred_y = utils.clean_list( pred_y )  \n",
        "  pred_y = list(map(utils._replaceitem , pred_y))\n",
        "  results.append(show_results(y_test_aux_, pred_y , \"SMOTETomek\"))\n",
        "\n",
        "  #resultados SMOTEENN\n",
        "  os =  SMOTEENN(ratio= utils.ratio_balance)\n",
        "  classifier_smote = utils.build_rn()\n",
        "  X_train_res, y_train_res = os.fit_sample(X_train, y_train)\n",
        "  classifier_smote.fit(X_train_res, y_train_res,epochs= utils.epochs,verbose=1)\n",
        "  print(\"Distribucion inicial {}\".format(Counter(y_train)))\n",
        "  print(\"Distribution final {}\".format(Counter(y_train_res)))\n",
        "  pred_y = classifier_smote.predict(X_test)\n",
        "  pred_y = utils.clean_list( pred_y )  \n",
        "  pred_y = list(map(utils._replaceitem , pred_y))\n",
        "  results.append(show_results(y_test_aux_, pred_y , \"SMOTEENN\"))\n",
        "  return pd.DataFrame.from_dict(results)\n",
        "  \n",
        "  \n"
      ]
    },
    {
      "cell_type": "code",
      "execution_count": null,
      "metadata": {
        "id": "6rWICe4OjIji"
      },
      "outputs": [],
      "source": [
        "#traemos los resultados de la prueba\n",
        "\n",
        "#results = get_result(X_train_aux_,X_test_aux_,y_train_aux_)"
      ]
    },
    {
      "cell_type": "markdown",
      "metadata": {
        "id": "KeML7aLXptCH"
      },
      "source": [
        "La rutina anterior fue ejecutada multiples veces, variando sus parametros. En la mayoria de los casos el metodo con mejor desempeño para la red (considerando el parametro recall y accuracy) fue el metodo de SMOTEENN, razón por la cual hemos obtado para continuar el experimento usando esta libreria."
      ]
    },
    {
      "cell_type": "markdown",
      "metadata": {
        "id": "LtYeFE76rib9"
      },
      "source": [
        "#4- Configuración red neuronal siamesa"
      ]
    },
    {
      "cell_type": "markdown",
      "metadata": {
        "id": "8MQjwUqj27vC"
      },
      "source": [
        "##Generacion de los conjutos de prueba y entrenamiento"
      ]
    },
    {
      "cell_type": "code",
      "execution_count": null,
      "metadata": {
        "colab": {
          "base_uri": "https://localhost:8080/"
        },
        "id": "m1sG0otI2_GQ",
        "outputId": "7d2d3324-4a1c-4886-a6d0-eb2d94540852"
      },
      "outputs": [
        {
          "output_type": "execute_result",
          "data": {
            "text/plain": [
              "array([[0, 1, 3, ..., 0, 0, 0],\n",
              "       [1, 1, 3, ..., 0, 0, 0],\n",
              "       [0, 1, 1, ..., 1, 0, 0],\n",
              "       ...,\n",
              "       [1, 1, 3, ..., 0, 0, 2],\n",
              "       [1, 1, 3, ..., 0, 0, 2],\n",
              "       [1, 1, 4, ..., 0, 0, 2]])"
            ]
          },
          "metadata": {},
          "execution_count": 12
        }
      ],
      "source": [
        "smoteenn =  SMOTEENN(sampling_strategy=0.9)\n",
        "X_train, y_train = smoteenn.fit_resample(X_train_aux_, y_train_aux_ )\n",
        "X_train"
      ]
    },
    {
      "cell_type": "markdown",
      "metadata": {
        "id": "lvyrNynKrv8q"
      },
      "source": [
        "##Busqueda de los mejores hiperparametros\n",
        "\n",
        "Para lograr resultados fiables, es necesario hacer una busqueda de los mejores hiperparametros. Para ello, usamos la libreria GridSearchCV.\n",
        "\n",
        "El código siguiente arroja como resultados: \n",
        "\n",
        "best_accu = 0.7659614828732476\n",
        "\n",
        "best_params = {'activation': 'sigmoid',\n",
        " 'batch_size': 10,\n",
        " 'dropout_rate': 0.1,\n",
        " 'nb_epoch': 100,\n",
        " 'neurons': 20,\n",
        " 'optimizer': 'adam'}\n",
        "\n",
        "\n",
        " Por razones practicas, hemos comentado estas lineas, ya que la ejecucion de esas funciones requerieren gran cantidad de tiempo."
      ]
    },
    {
      "cell_type": "code",
      "execution_count": null,
      "metadata": {
        "id": "MBYMU0m3rs05"
      },
      "outputs": [],
      "source": [
        "params = {\n",
        "    'batch_size': [10,20,30],\n",
        "    'nb_epoch': [75, 100 , 125 ],\n",
        "    'optimizer': ['adam', 'rmsprop'],\n",
        "    'dropout_rate':[0.1,0.2,0.3],\n",
        "    'activation':[ 'relu', 'sigmoid'],\n",
        "    'neurons': [15,20,30,35]\n",
        "\n",
        "}"
      ]
    },
    {
      "cell_type": "code",
      "execution_count": null,
      "metadata": {
        "colab": {
          "base_uri": "https://localhost:8080/"
        },
        "id": "xAo0OV0F12aS",
        "outputId": "3b641acd-a7a4-476a-af10-41bdddbf62b0"
      },
      "outputs": [
        {
          "output_type": "execute_result",
          "data": {
            "text/plain": [
              "\"\\nk_classifier = KerasClassifier( build_fn= utils.build_rn )\\ngrid_s = GridSearchCV(estimator = k_classifier , param_grid = params , scoring = 'accuracy' , cv= 10 )\\ngrid_s = grid_s.fit( X_train , y_train )\\nbest_params = grid_s.best_params_\\nbest_accu = grid_s.best_score_\\n\""
            ],
            "application/vnd.google.colaboratory.intrinsic+json": {
              "type": "string"
            }
          },
          "metadata": {},
          "execution_count": 14
        }
      ],
      "source": [
        "\"\"\"\n",
        "k_classifier = KerasClassifier( build_fn= utils.build_rn )\n",
        "grid_s = GridSearchCV(estimator = k_classifier , param_grid = params , scoring = 'accuracy' , cv= 10 )\n",
        "grid_s = grid_s.fit( X_train , y_train )\n",
        "best_params = grid_s.best_params_\n",
        "best_accu = grid_s.best_score_\n",
        "\"\"\""
      ]
    },
    {
      "cell_type": "code",
      "execution_count": null,
      "metadata": {
        "id": "l4-N0mQb_q7v"
      },
      "outputs": [],
      "source": [
        "best_params = {'activation': 'sigmoid', 'batch_size': 10, 'dropout_rate': 0.1, 'nb_epoch': 100, 'neurons':35, 'optimizer': 'adam'}\n",
        "utils.batch_size =10\n",
        "utils.activation = 'sigmod'\n",
        "utils.dropout_rate = 0.3\n",
        "utils.nb_epoch = 100\n",
        "utils.neurons = 35\n",
        "utils.optimizer = 'adam'"
      ]
    },
    {
      "cell_type": "code",
      "source": [],
      "metadata": {
        "id": "HtPjg9SK9mBW"
      },
      "execution_count": null,
      "outputs": []
    },
    {
      "cell_type": "markdown",
      "metadata": {
        "id": "wKNo10uMvioM"
      },
      "source": [
        "##Estructura del modelo"
      ]
    },
    {
      "cell_type": "code",
      "execution_count": null,
      "metadata": {
        "id": "N5GdfFzVvxiB"
      },
      "outputs": [],
      "source": [
        "def build_siamese_model( optimizer = utils.optimizer , dropout_rate = utils.dropout_rate, activation =\"relu\" , neurons= utils.neurons):    \n",
        "  classifier = Sequential()\n",
        "  classifier.add(Dense( neurons , activation = activation, input_dim = utils.input_dim  , input_shape=utils.shape0 , name=\"layer1\") )\n",
        "  classifier.add(Dropout(dropout_rate))\n",
        "  classifier.add(Dense(units = 5, activation = \"relu\", name=\"layer2\"))\n",
        "  classifier.add(Dropout(dropout_rate))\n",
        "  classifier.add(Dense(units = 1, kernel_initializer = \"uniform\",  activation = \"sigmoid\", name=\"layer3\"))\n",
        "\n",
        "\n",
        "  return classifier"
      ]
    },
    {
      "cell_type": "markdown",
      "metadata": {
        "id": "yeBXA8NQAew5"
      },
      "source": [
        "##Configuracion de salidas de la red"
      ]
    },
    {
      "cell_type": "code",
      "execution_count": null,
      "metadata": {
        "id": "9Klvm7iTAj0W"
      },
      "outputs": [],
      "source": [
        "#calcula la resta entre U0 y U1\n",
        "def subtraction(vectors):\n",
        "  (u1, u0) = vectors\n",
        "  subtracted = keras.layers.subtract([u1, u0])\n",
        "  return subtracted \n",
        "\n",
        "\n",
        "#verdadero uplift\n",
        "#µT = T µ1 + (1 − T)µ0\n",
        "def u_t(vectors):\n",
        "  (u1, u0, t) = vectors\n",
        "  mul_u1_t = keras.layers.multiply([u1, t])\n",
        "  mul_u0_t = keras.layers.multiply([u0, t])\n",
        "  aux1 = keras.layers.add([mul_u1_t, u0])\n",
        "  aux2 = keras.layers.subtract([aux1, mul_u0_t])\n",
        "  \n",
        "  return aux2\n",
        "\n",
        "## consultar al profe sobre esta funcion\n",
        "def pi_y(vectors):\n",
        "  (featsA, featsB, y) = vectors\n",
        "  aux1 = keras.layers.add([featsA, featsB])\n",
        "  aux2 = Lambda(lambda inputs: inputs[0] / (inputs[1]+tf.constant(1e-6)))([featsA, aux1])\n",
        "  aux3=tf.constant(1.)-featsA\n",
        "  aux4=tf.constant(1.)-featsB\n",
        "  aux5= keras.layers.add([aux3, aux4])\n",
        "  aux6 = Lambda(lambda inputs: inputs[0] / (inputs[1]+tf.constant(1e-6)))([aux3, aux5]) #para evitar division con 0\n",
        "  aux7= keras.layers.multiply([y, aux2])\n",
        "  aux8=tf.constant(1.)-y\n",
        "  aux9= keras.layers.multiply([aux8, aux6])\n",
        "  aux10 = keras.layers.add([aux7, aux9])  \n",
        "  return aux10\n",
        "\n",
        "def II_y( vectors ):\n",
        "  (u1, u0, y) = vectors\n",
        "  II_1 = Lambda(lambda x: x[0]/(x[1]+x[0]))([u1,u0])\n",
        "  II_0 = Lambda(lambda x: (1-x[0])/((1-x[1])+(1-x[0])))([u1,u0])\n",
        "  mul_u1_y = keras.layers.multiply([u1, y])\n",
        "  mul_u0_y = keras.layers.multiply([u0, y])\n",
        "  aux1 = keras.layers.add([mul_u1_y, u0])\n",
        "  aux2 = keras.layers.subtract([aux1, mul_u0_y])\n",
        "  return aux2\n",
        "\n"
      ]
    },
    {
      "cell_type": "markdown",
      "metadata": {
        "id": "bMUVUC6kGRH2"
      },
      "source": [
        "#5- Implementación de la red"
      ]
    },
    {
      "cell_type": "markdown",
      "metadata": {
        "id": "7MarQ6_S4Xws"
      },
      "source": [
        "##Parametros iniciales"
      ]
    },
    {
      "cell_type": "code",
      "execution_count": null,
      "metadata": {
        "id": "AzWyB5cI4bZg"
      },
      "outputs": [],
      "source": [
        "#configuracion de entradas\n",
        "inputA = Input( utils.shape0 )\n",
        "inputB = Input( utils.shape0 )\n",
        "inputT = Input( utils.shape1 )\n",
        "label_z = Input(utils.shape1)\n",
        "label_y = Input(utils.shape1)\n",
        "label_t = Input(utils.shape1)\n",
        "\n",
        "\n",
        "featureExtractor = build_siamese_model()\n",
        "featsA = featureExtractor(inputA)\n",
        "featsB = featureExtractor(inputB)\n"
      ]
    },
    {
      "cell_type": "markdown",
      "metadata": {
        "id": "QzlP76lJK_uO"
      },
      "source": [
        "##Escalado y Generacion de conjuntos"
      ]
    },
    {
      "cell_type": "code",
      "execution_count": null,
      "metadata": {
        "id": "lKjhyPVCVds6"
      },
      "outputs": [],
      "source": [
        "#reservamos una parte del dataset para pruebas\n",
        "dataset_aux = dataset.copy()\n",
        "train_dataset= dataset_aux.sample( frac = 1-utils.test_size)\n",
        "test_dataset = dataset_aux.drop( train_dataset.index )\n",
        "\n",
        "\n",
        "train_dataset = utils.balance( train_dataset )\n"
      ]
    },
    {
      "cell_type": "code",
      "execution_count": null,
      "metadata": {
        "colab": {
          "base_uri": "https://localhost:8080/"
        },
        "id": "7Ynp2pJ6KaGH",
        "outputId": "c3b028bd-c0f6-46d8-ff82-2f5bea5f5363"
      },
      "outputs": [
        {
          "output_type": "execute_result",
          "data": {
            "text/plain": [
              "Index(['group', 'gender', 'orders_3', 'orders_6', 'orders_9',\n",
              "       'campaing_subscribe', 'conversion', 'Others', 'colina', 'la reina',\n",
              "       'macul', 'maipu', 'nunoa', 'penalolen', 'providencia', 'puente alto',\n",
              "       'puerto montt', 'punta arenas', 'rancagua', 'buy_campaing'],\n",
              "      dtype='object')"
            ]
          },
          "metadata": {},
          "execution_count": 85
        }
      ],
      "source": [
        "colums_convert = dataset.columns[~dataset.isin([0,1]).all()]\n",
        "colums_no_convert = dataset.columns[dataset.isin([0,1]).all()]\n",
        "colums_no_convert\n"
      ]
    },
    {
      "cell_type": "code",
      "execution_count": null,
      "metadata": {
        "colab": {
          "base_uri": "https://localhost:8080/"
        },
        "id": "HSaDWUQRK9f2",
        "outputId": "56c28285-89ed-4cba-f2e8-fe9e9b0ca4d3"
      },
      "outputs": [
        {
          "output_type": "execute_result",
          "data": {
            "text/plain": [
              "      group  gender  year_birth  total_orders  total_m  total_f  total_o  \\\n",
              "0         0       1           4             1        0        0    52038   \n",
              "1         0       1           1             0        0        0        0   \n",
              "2         0       1           3             1        0     4489        0   \n",
              "3         0       1           2             0        0        0        0   \n",
              "4         0       1           2             1        0    12500        0   \n",
              "...     ...     ...         ...           ...      ...      ...      ...   \n",
              "3680      1       1           3             0        0        0        0   \n",
              "3682      1       1           2             0        0        0        0   \n",
              "3683      1       1           3             1        0    38432        0   \n",
              "3684      1       1           2             0        0        0        0   \n",
              "3685      1       1           2             0        0        0        0   \n",
              "\n",
              "      regency  abandoned_cars  recupered_cars  ...  maipu  nunoa  penalolen  \\\n",
              "0           6               0               0  ...      0      0          0   \n",
              "1           7               0               0  ...      0      0          0   \n",
              "2           5               1               1  ...      0      0          0   \n",
              "3           1               1               0  ...      0      0          0   \n",
              "4          20               0               0  ...      0      1          0   \n",
              "...       ...             ...             ...  ...    ...    ...        ...   \n",
              "3680        2               0               0  ...      0      0          0   \n",
              "3682        4               0               0  ...      0      0          0   \n",
              "3683       10               0               0  ...      0      0          0   \n",
              "3684        5               0               0  ...      0      0          0   \n",
              "3685        4               0               0  ...      0      0          0   \n",
              "\n",
              "      providencia  puente alto  puerto montt  punta arenas  rancagua  \\\n",
              "0               0            0             0             0         0   \n",
              "1               0            0             0             0         0   \n",
              "2               0            1             0             0         0   \n",
              "3               0            0             0             0         0   \n",
              "4               0            0             0             0         0   \n",
              "...           ...          ...           ...           ...       ...   \n",
              "3680            0            0             0             0         0   \n",
              "3682            0            0             0             0         0   \n",
              "3683            0            0             0             0         0   \n",
              "3684            0            0             0             0         0   \n",
              "3685            0            0             0             0         0   \n",
              "\n",
              "      buy_campaing  z  \n",
              "0                0  0  \n",
              "1                0  0  \n",
              "2                0  0  \n",
              "3                0  0  \n",
              "4                0  0  \n",
              "...            ... ..  \n",
              "3680             1  2  \n",
              "3682             1  2  \n",
              "3683             1  2  \n",
              "3684             1  2  \n",
              "3685             1  2  \n",
              "\n",
              "[3090 rows x 30 columns]"
            ],
            "text/html": [
              "\n",
              "  <div id=\"df-3189ee5e-4211-4c7a-a63d-1c24687955e3\">\n",
              "    <div class=\"colab-df-container\">\n",
              "      <div>\n",
              "<style scoped>\n",
              "    .dataframe tbody tr th:only-of-type {\n",
              "        vertical-align: middle;\n",
              "    }\n",
              "\n",
              "    .dataframe tbody tr th {\n",
              "        vertical-align: top;\n",
              "    }\n",
              "\n",
              "    .dataframe thead th {\n",
              "        text-align: right;\n",
              "    }\n",
              "</style>\n",
              "<table border=\"1\" class=\"dataframe\">\n",
              "  <thead>\n",
              "    <tr style=\"text-align: right;\">\n",
              "      <th></th>\n",
              "      <th>group</th>\n",
              "      <th>gender</th>\n",
              "      <th>year_birth</th>\n",
              "      <th>total_orders</th>\n",
              "      <th>total_m</th>\n",
              "      <th>total_f</th>\n",
              "      <th>total_o</th>\n",
              "      <th>regency</th>\n",
              "      <th>abandoned_cars</th>\n",
              "      <th>recupered_cars</th>\n",
              "      <th>...</th>\n",
              "      <th>maipu</th>\n",
              "      <th>nunoa</th>\n",
              "      <th>penalolen</th>\n",
              "      <th>providencia</th>\n",
              "      <th>puente alto</th>\n",
              "      <th>puerto montt</th>\n",
              "      <th>punta arenas</th>\n",
              "      <th>rancagua</th>\n",
              "      <th>buy_campaing</th>\n",
              "      <th>z</th>\n",
              "    </tr>\n",
              "  </thead>\n",
              "  <tbody>\n",
              "    <tr>\n",
              "      <th>0</th>\n",
              "      <td>0</td>\n",
              "      <td>1</td>\n",
              "      <td>4</td>\n",
              "      <td>1</td>\n",
              "      <td>0</td>\n",
              "      <td>0</td>\n",
              "      <td>52038</td>\n",
              "      <td>6</td>\n",
              "      <td>0</td>\n",
              "      <td>0</td>\n",
              "      <td>...</td>\n",
              "      <td>0</td>\n",
              "      <td>0</td>\n",
              "      <td>0</td>\n",
              "      <td>0</td>\n",
              "      <td>0</td>\n",
              "      <td>0</td>\n",
              "      <td>0</td>\n",
              "      <td>0</td>\n",
              "      <td>0</td>\n",
              "      <td>0</td>\n",
              "    </tr>\n",
              "    <tr>\n",
              "      <th>1</th>\n",
              "      <td>0</td>\n",
              "      <td>1</td>\n",
              "      <td>1</td>\n",
              "      <td>0</td>\n",
              "      <td>0</td>\n",
              "      <td>0</td>\n",
              "      <td>0</td>\n",
              "      <td>7</td>\n",
              "      <td>0</td>\n",
              "      <td>0</td>\n",
              "      <td>...</td>\n",
              "      <td>0</td>\n",
              "      <td>0</td>\n",
              "      <td>0</td>\n",
              "      <td>0</td>\n",
              "      <td>0</td>\n",
              "      <td>0</td>\n",
              "      <td>0</td>\n",
              "      <td>0</td>\n",
              "      <td>0</td>\n",
              "      <td>0</td>\n",
              "    </tr>\n",
              "    <tr>\n",
              "      <th>2</th>\n",
              "      <td>0</td>\n",
              "      <td>1</td>\n",
              "      <td>3</td>\n",
              "      <td>1</td>\n",
              "      <td>0</td>\n",
              "      <td>4489</td>\n",
              "      <td>0</td>\n",
              "      <td>5</td>\n",
              "      <td>1</td>\n",
              "      <td>1</td>\n",
              "      <td>...</td>\n",
              "      <td>0</td>\n",
              "      <td>0</td>\n",
              "      <td>0</td>\n",
              "      <td>0</td>\n",
              "      <td>1</td>\n",
              "      <td>0</td>\n",
              "      <td>0</td>\n",
              "      <td>0</td>\n",
              "      <td>0</td>\n",
              "      <td>0</td>\n",
              "    </tr>\n",
              "    <tr>\n",
              "      <th>3</th>\n",
              "      <td>0</td>\n",
              "      <td>1</td>\n",
              "      <td>2</td>\n",
              "      <td>0</td>\n",
              "      <td>0</td>\n",
              "      <td>0</td>\n",
              "      <td>0</td>\n",
              "      <td>1</td>\n",
              "      <td>1</td>\n",
              "      <td>0</td>\n",
              "      <td>...</td>\n",
              "      <td>0</td>\n",
              "      <td>0</td>\n",
              "      <td>0</td>\n",
              "      <td>0</td>\n",
              "      <td>0</td>\n",
              "      <td>0</td>\n",
              "      <td>0</td>\n",
              "      <td>0</td>\n",
              "      <td>0</td>\n",
              "      <td>0</td>\n",
              "    </tr>\n",
              "    <tr>\n",
              "      <th>4</th>\n",
              "      <td>0</td>\n",
              "      <td>1</td>\n",
              "      <td>2</td>\n",
              "      <td>1</td>\n",
              "      <td>0</td>\n",
              "      <td>12500</td>\n",
              "      <td>0</td>\n",
              "      <td>20</td>\n",
              "      <td>0</td>\n",
              "      <td>0</td>\n",
              "      <td>...</td>\n",
              "      <td>0</td>\n",
              "      <td>1</td>\n",
              "      <td>0</td>\n",
              "      <td>0</td>\n",
              "      <td>0</td>\n",
              "      <td>0</td>\n",
              "      <td>0</td>\n",
              "      <td>0</td>\n",
              "      <td>0</td>\n",
              "      <td>0</td>\n",
              "    </tr>\n",
              "    <tr>\n",
              "      <th>...</th>\n",
              "      <td>...</td>\n",
              "      <td>...</td>\n",
              "      <td>...</td>\n",
              "      <td>...</td>\n",
              "      <td>...</td>\n",
              "      <td>...</td>\n",
              "      <td>...</td>\n",
              "      <td>...</td>\n",
              "      <td>...</td>\n",
              "      <td>...</td>\n",
              "      <td>...</td>\n",
              "      <td>...</td>\n",
              "      <td>...</td>\n",
              "      <td>...</td>\n",
              "      <td>...</td>\n",
              "      <td>...</td>\n",
              "      <td>...</td>\n",
              "      <td>...</td>\n",
              "      <td>...</td>\n",
              "      <td>...</td>\n",
              "      <td>...</td>\n",
              "    </tr>\n",
              "    <tr>\n",
              "      <th>3680</th>\n",
              "      <td>1</td>\n",
              "      <td>1</td>\n",
              "      <td>3</td>\n",
              "      <td>0</td>\n",
              "      <td>0</td>\n",
              "      <td>0</td>\n",
              "      <td>0</td>\n",
              "      <td>2</td>\n",
              "      <td>0</td>\n",
              "      <td>0</td>\n",
              "      <td>...</td>\n",
              "      <td>0</td>\n",
              "      <td>0</td>\n",
              "      <td>0</td>\n",
              "      <td>0</td>\n",
              "      <td>0</td>\n",
              "      <td>0</td>\n",
              "      <td>0</td>\n",
              "      <td>0</td>\n",
              "      <td>1</td>\n",
              "      <td>2</td>\n",
              "    </tr>\n",
              "    <tr>\n",
              "      <th>3682</th>\n",
              "      <td>1</td>\n",
              "      <td>1</td>\n",
              "      <td>2</td>\n",
              "      <td>0</td>\n",
              "      <td>0</td>\n",
              "      <td>0</td>\n",
              "      <td>0</td>\n",
              "      <td>4</td>\n",
              "      <td>0</td>\n",
              "      <td>0</td>\n",
              "      <td>...</td>\n",
              "      <td>0</td>\n",
              "      <td>0</td>\n",
              "      <td>0</td>\n",
              "      <td>0</td>\n",
              "      <td>0</td>\n",
              "      <td>0</td>\n",
              "      <td>0</td>\n",
              "      <td>0</td>\n",
              "      <td>1</td>\n",
              "      <td>2</td>\n",
              "    </tr>\n",
              "    <tr>\n",
              "      <th>3683</th>\n",
              "      <td>1</td>\n",
              "      <td>1</td>\n",
              "      <td>3</td>\n",
              "      <td>1</td>\n",
              "      <td>0</td>\n",
              "      <td>38432</td>\n",
              "      <td>0</td>\n",
              "      <td>10</td>\n",
              "      <td>0</td>\n",
              "      <td>0</td>\n",
              "      <td>...</td>\n",
              "      <td>0</td>\n",
              "      <td>0</td>\n",
              "      <td>0</td>\n",
              "      <td>0</td>\n",
              "      <td>0</td>\n",
              "      <td>0</td>\n",
              "      <td>0</td>\n",
              "      <td>0</td>\n",
              "      <td>1</td>\n",
              "      <td>2</td>\n",
              "    </tr>\n",
              "    <tr>\n",
              "      <th>3684</th>\n",
              "      <td>1</td>\n",
              "      <td>1</td>\n",
              "      <td>2</td>\n",
              "      <td>0</td>\n",
              "      <td>0</td>\n",
              "      <td>0</td>\n",
              "      <td>0</td>\n",
              "      <td>5</td>\n",
              "      <td>0</td>\n",
              "      <td>0</td>\n",
              "      <td>...</td>\n",
              "      <td>0</td>\n",
              "      <td>0</td>\n",
              "      <td>0</td>\n",
              "      <td>0</td>\n",
              "      <td>0</td>\n",
              "      <td>0</td>\n",
              "      <td>0</td>\n",
              "      <td>0</td>\n",
              "      <td>1</td>\n",
              "      <td>2</td>\n",
              "    </tr>\n",
              "    <tr>\n",
              "      <th>3685</th>\n",
              "      <td>1</td>\n",
              "      <td>1</td>\n",
              "      <td>2</td>\n",
              "      <td>0</td>\n",
              "      <td>0</td>\n",
              "      <td>0</td>\n",
              "      <td>0</td>\n",
              "      <td>4</td>\n",
              "      <td>0</td>\n",
              "      <td>0</td>\n",
              "      <td>...</td>\n",
              "      <td>0</td>\n",
              "      <td>0</td>\n",
              "      <td>0</td>\n",
              "      <td>0</td>\n",
              "      <td>0</td>\n",
              "      <td>0</td>\n",
              "      <td>0</td>\n",
              "      <td>0</td>\n",
              "      <td>1</td>\n",
              "      <td>2</td>\n",
              "    </tr>\n",
              "  </tbody>\n",
              "</table>\n",
              "<p>3090 rows × 30 columns</p>\n",
              "</div>\n",
              "      <button class=\"colab-df-convert\" onclick=\"convertToInteractive('df-3189ee5e-4211-4c7a-a63d-1c24687955e3')\"\n",
              "              title=\"Convert this dataframe to an interactive table.\"\n",
              "              style=\"display:none;\">\n",
              "        \n",
              "  <svg xmlns=\"http://www.w3.org/2000/svg\" height=\"24px\"viewBox=\"0 0 24 24\"\n",
              "       width=\"24px\">\n",
              "    <path d=\"M0 0h24v24H0V0z\" fill=\"none\"/>\n",
              "    <path d=\"M18.56 5.44l.94 2.06.94-2.06 2.06-.94-2.06-.94-.94-2.06-.94 2.06-2.06.94zm-11 1L8.5 8.5l.94-2.06 2.06-.94-2.06-.94L8.5 2.5l-.94 2.06-2.06.94zm10 10l.94 2.06.94-2.06 2.06-.94-2.06-.94-.94-2.06-.94 2.06-2.06.94z\"/><path d=\"M17.41 7.96l-1.37-1.37c-.4-.4-.92-.59-1.43-.59-.52 0-1.04.2-1.43.59L10.3 9.45l-7.72 7.72c-.78.78-.78 2.05 0 2.83L4 21.41c.39.39.9.59 1.41.59.51 0 1.02-.2 1.41-.59l7.78-7.78 2.81-2.81c.8-.78.8-2.07 0-2.86zM5.41 20L4 18.59l7.72-7.72 1.47 1.35L5.41 20z\"/>\n",
              "  </svg>\n",
              "      </button>\n",
              "      \n",
              "  <style>\n",
              "    .colab-df-container {\n",
              "      display:flex;\n",
              "      flex-wrap:wrap;\n",
              "      gap: 12px;\n",
              "    }\n",
              "\n",
              "    .colab-df-convert {\n",
              "      background-color: #E8F0FE;\n",
              "      border: none;\n",
              "      border-radius: 50%;\n",
              "      cursor: pointer;\n",
              "      display: none;\n",
              "      fill: #1967D2;\n",
              "      height: 32px;\n",
              "      padding: 0 0 0 0;\n",
              "      width: 32px;\n",
              "    }\n",
              "\n",
              "    .colab-df-convert:hover {\n",
              "      background-color: #E2EBFA;\n",
              "      box-shadow: 0px 1px 2px rgba(60, 64, 67, 0.3), 0px 1px 3px 1px rgba(60, 64, 67, 0.15);\n",
              "      fill: #174EA6;\n",
              "    }\n",
              "\n",
              "    [theme=dark] .colab-df-convert {\n",
              "      background-color: #3B4455;\n",
              "      fill: #D2E3FC;\n",
              "    }\n",
              "\n",
              "    [theme=dark] .colab-df-convert:hover {\n",
              "      background-color: #434B5C;\n",
              "      box-shadow: 0px 1px 3px 1px rgba(0, 0, 0, 0.15);\n",
              "      filter: drop-shadow(0px 1px 2px rgba(0, 0, 0, 0.3));\n",
              "      fill: #FFFFFF;\n",
              "    }\n",
              "  </style>\n",
              "\n",
              "      <script>\n",
              "        const buttonEl =\n",
              "          document.querySelector('#df-3189ee5e-4211-4c7a-a63d-1c24687955e3 button.colab-df-convert');\n",
              "        buttonEl.style.display =\n",
              "          google.colab.kernel.accessAllowed ? 'block' : 'none';\n",
              "\n",
              "        async function convertToInteractive(key) {\n",
              "          const element = document.querySelector('#df-3189ee5e-4211-4c7a-a63d-1c24687955e3');\n",
              "          const dataTable =\n",
              "            await google.colab.kernel.invokeFunction('convertToInteractive',\n",
              "                                                     [key], {});\n",
              "          if (!dataTable) return;\n",
              "\n",
              "          const docLinkHtml = 'Like what you see? Visit the ' +\n",
              "            '<a target=\"_blank\" href=https://colab.research.google.com/notebooks/data_table.ipynb>data table notebook</a>'\n",
              "            + ' to learn more about interactive tables.';\n",
              "          element.innerHTML = '';\n",
              "          dataTable['output_type'] = 'display_data';\n",
              "          await google.colab.output.renderOutput(dataTable, element);\n",
              "          const docLink = document.createElement('div');\n",
              "          docLink.innerHTML = docLinkHtml;\n",
              "          element.appendChild(docLink);\n",
              "        }\n",
              "      </script>\n",
              "    </div>\n",
              "  </div>\n",
              "  "
            ]
          },
          "metadata": {},
          "execution_count": 86
        }
      ],
      "source": [
        "smot =  SMOTEENN(sampling_strategy=0.8)\n",
        "\n",
        "over_x = train_dataset.copy()\n",
        "over_y = over_x['buy_campaing']\n",
        "\n",
        "del( over_x['buy_campaing']  )\n",
        "del( over_x['z']  )\n",
        "\n",
        "over_x_res, over_y_res = smot.fit_resample(over_x, over_y)\n",
        "X_train = pd.DataFrame(over_x_res, columns=over_x.columns)\n",
        "final_data = pd.DataFrame(data=X_train)\n",
        "final_data = final_data.assign( buy_campaing = over_y_res)\n",
        "final_data\n",
        "\n",
        "\n",
        "dataset_final = utils.balance( final_data )\n",
        "dataset_final = utils.set_transformed_outcome( dataset_final )\n",
        "dataset_final"
      ]
    },
    {
      "cell_type": "code",
      "execution_count": null,
      "metadata": {
        "id": "S5kD2eoU2Pvi",
        "colab": {
          "base_uri": "https://localhost:8080/"
        },
        "outputId": "79100eaa-8ac4-4f95-e558-393c0243136a"
      },
      "outputs": [
        {
          "output_type": "execute_result",
          "data": {
            "text/plain": [
              "(3090, 30)"
            ]
          },
          "metadata": {},
          "execution_count": 87
        }
      ],
      "source": [
        "##omitimos los binarios en el escalado\n",
        "X = dataset_final.iloc[:, 0:28] #no consideramos z ni y\n",
        "colums_convert = X.columns[~X.isin([0,1]).all()]\n",
        "features = X[ X.columns ]\n",
        "\n",
        "ct = ColumnTransformer([\n",
        "        ('data', StandardScaler(), colums_convert )\n",
        "    ], remainder='passthrough')\n",
        "\n",
        "#escalamos el dataset de entrenamiento\n",
        "dataset_convert = ct.fit_transform(features)\n",
        "\n",
        "#escalamos el dataset de prueba\n",
        "np.savetxt(\"data_pred.csv\", test_dataset , delimiter=\",\")\n",
        "\n",
        "\n",
        "X = test_dataset.iloc[:, 0:28] #no consideramos z ni y\n",
        "features = X[ X.columns ]\n",
        "\n",
        "test_dataset_convert = ct.fit_transform(features)\n",
        "dataset_final.shape\n",
        "\n"
      ]
    },
    {
      "cell_type": "code",
      "execution_count": null,
      "metadata": {
        "id": "hoNkyKhY3Sq0"
      },
      "outputs": [],
      "source": [
        "#usaremos las variables de test generadas aca solo para la validacion\n",
        "X = dataset_convert\n",
        "z = dataset_final['z'].values\n",
        "y = dataset_final['buy_campaing'].values\n",
        "from sklearn.model_selection import train_test_split\n",
        "indices = np.arange(np.shape(X)[0])\n",
        "X_train, X_test, z_train, z_test, i_train, i_test = train_test_split( X , z , indices, test_size = utils.test_size , random_state = 0)\n",
        "\n",
        "\n",
        "y_test = y[i_test,]\n",
        "y_train = y[i_train,]\n",
        "\n",
        "tt=dataset_final['group'].values\n",
        "t_train=tt[i_train,]\n",
        "t_test=tt[i_test,]\n",
        "\n",
        "\n",
        "#np.savetxt(\"pred1.csv\", X , delimiter=\",\")\n"
      ]
    },
    {
      "cell_type": "code",
      "execution_count": null,
      "metadata": {
        "id": "x9EXk6QOauR7"
      },
      "outputs": [],
      "source": [
        "#estas as usaremos para las predicciones\n",
        "y_to_pred = test_dataset['buy_campaing'].values\n",
        "z_to_pred = test_dataset['z'].values\n",
        "t_to_pred = test_dataset['group'].values\n",
        "X_to_pred = test_dataset_convert\n",
        "\n"
      ]
    },
    {
      "cell_type": "markdown",
      "metadata": {
        "id": "dqEpv--aAs4s"
      },
      "source": [
        "## Función de perdida"
      ]
    },
    {
      "cell_type": "code",
      "execution_count": null,
      "metadata": {
        "id": "f8wik7r-F2z4"
      },
      "outputs": [],
      "source": [
        "u1_u0 =  Lambda(subtraction)([featsA, featsB])\n",
        "piy =  Lambda(pi_y)([featsA, featsB, label_y])\n",
        "ut =  Lambda(u_t)([featsA, featsB, inputT])\n",
        "loss = K.mean(((1-utils.alpha))*mean_squared_error(label_z,u1_u0) + (utils.alpha)*binary_crossentropy(label_y, ut ))\n"
      ]
    },
    {
      "cell_type": "markdown",
      "metadata": {
        "id": "77VHCAf25PHZ"
      },
      "source": [
        "##Implementación"
      ]
    },
    {
      "cell_type": "code",
      "execution_count": null,
      "metadata": {
        "id": "fnSoZLbt6HUO"
      },
      "outputs": [],
      "source": [
        "#Generación de pares\n",
        "#entrenamiento\n",
        "(pairTrain, labelTrain) = utils.make_pairs(X_train, y_train)\n",
        "#validacion\n",
        "(pairTest, labelTest) = utils.make_pairs(X_test, y_test)\n",
        "#prueba\n",
        "(pairTest_to_pred, labelTest_to_pred) = utils.make_pairs(X_to_pred, y_to_pred)\n",
        "\n"
      ]
    },
    {
      "cell_type": "code",
      "execution_count": null,
      "metadata": {
        "colab": {
          "base_uri": "https://localhost:8080/"
        },
        "id": "wVvym5Mg5TjJ",
        "outputId": "37b8b0d3-2223-4651-81bf-21c6fbef04db"
      },
      "outputs": [
        {
          "output_type": "stream",
          "name": "stdout",
          "text": [
            "Model: \"model_5\"\n",
            "__________________________________________________________________________________________________\n",
            " Layer (type)                   Output Shape         Param #     Connected to                     \n",
            "==================================================================================================\n",
            " input_31 (InputLayer)          [(None, 29)]         0           []                               \n",
            "                                                                                                  \n",
            " input_32 (InputLayer)          [(None, 29)]         0           []                               \n",
            "                                                                                                  \n",
            " sequential_5 (Sequential)      (None, 1)            1236        ['input_31[0][0]',               \n",
            "                                                                  'input_32[0][0]']               \n",
            "                                                                                                  \n",
            " input_35 (InputLayer)          [(None, 1)]          0           []                               \n",
            "                                                                                                  \n",
            " input_33 (InputLayer)          [(None, 1)]          0           []                               \n",
            "                                                                                                  \n",
            " input_34 (InputLayer)          [(None, 1)]          0           []                               \n",
            "                                                                                                  \n",
            " lambda_15 (Lambda)             (None, 1)            0           ['sequential_5[0][0]',           \n",
            "                                                                  'sequential_5[1][0]']           \n",
            "                                                                                                  \n",
            " lambda_16 (Lambda)             (None, 1)            0           ['sequential_5[0][0]',           \n",
            "                                                                  'sequential_5[1][0]',           \n",
            "                                                                  'input_35[0][0]']               \n",
            "                                                                                                  \n",
            " lambda_17 (Lambda)             (None, 1)            0           ['sequential_5[0][0]',           \n",
            "                                                                  'sequential_5[1][0]',           \n",
            "                                                                  'input_33[0][0]']               \n",
            "                                                                                                  \n",
            " tf.convert_to_tensor_20 (TFOpL  (None, 1)           0           ['lambda_15[0][0]']              \n",
            " ambda)                                                                                           \n",
            "                                                                                                  \n",
            " tf.cast_10 (TFOpLambda)        (None, 1)            0           ['input_34[0][0]']               \n",
            "                                                                                                  \n",
            " tf.cast_11 (TFOpLambda)        (None, 1)            0           ['input_35[0][0]']               \n",
            "                                                                                                  \n",
            " tf.convert_to_tensor_21 (TFOpL  (None, 1)           0           ['lambda_17[0][0]']              \n",
            " ambda)                                                                                           \n",
            "                                                                                                  \n",
            " tf.math.squared_difference_5 (  (None, 1)           0           ['tf.convert_to_tensor_20[0][0]',\n",
            " TFOpLambda)                                                      'tf.cast_10[0][0]']             \n",
            "                                                                                                  \n",
            " tf.keras.backend.binary_crosse  (None, 1)           0           ['tf.cast_11[0][0]',             \n",
            " ntropy_5 (TFOpLambda)                                            'tf.convert_to_tensor_21[0][0]']\n",
            "                                                                                                  \n",
            " tf.math.reduce_mean_15 (TFOpLa  (None,)             0           ['tf.math.squared_difference_5[0]\n",
            " mbda)                                                           [0]']                            \n",
            "                                                                                                  \n",
            " tf.math.reduce_mean_16 (TFOpLa  (None,)             0           ['tf.keras.backend.binary_crossen\n",
            " mbda)                                                           tropy_5[0][0]']                  \n",
            "                                                                                                  \n",
            " tf.math.multiply_10 (TFOpLambd  (None,)             0           ['tf.math.reduce_mean_15[0][0]'] \n",
            " a)                                                                                               \n",
            "                                                                                                  \n",
            " tf.math.multiply_11 (TFOpLambd  (None,)             0           ['tf.math.reduce_mean_16[0][0]'] \n",
            " a)                                                                                               \n",
            "                                                                                                  \n",
            " tf.__operators__.add_5 (TFOpLa  (None,)             0           ['tf.math.multiply_10[0][0]',    \n",
            " mbda)                                                            'tf.math.multiply_11[0][0]']    \n",
            "                                                                                                  \n",
            " tf.math.reduce_mean_17 (TFOpLa  ()                  0           ['tf.__operators__.add_5[0][0]'] \n",
            " mbda)                                                                                            \n",
            "                                                                                                  \n",
            " add_loss_5 (AddLoss)           ()                   0           ['tf.math.reduce_mean_17[0][0]'] \n",
            "                                                                                                  \n",
            "==================================================================================================\n",
            "Total params: 1,236\n",
            "Trainable params: 1,236\n",
            "Non-trainable params: 0\n",
            "__________________________________________________________________________________________________\n"
          ]
        }
      ],
      "source": [
        "opt = tf.keras.optimizers.Adam(learning_rate=0.0001)\n",
        "\n",
        "\n",
        "\n",
        "model = Model(inputs=[inputA, inputB, inputT, label_z, label_y], outputs=[u1_u0,piy,ut])\n",
        "model.add_loss(loss)\n",
        "model.compile(opt)\n",
        "model.summary()\n",
        "\n"
      ]
    },
    {
      "cell_type": "code",
      "execution_count": null,
      "metadata": {
        "id": "SWtonrC45ySS",
        "colab": {
          "base_uri": "https://localhost:8080/"
        },
        "outputId": "f1f8dae8-3f47-4170-8f25-58d79586727b"
      },
      "outputs": [
        {
          "output_type": "stream",
          "name": "stdout",
          "text": [
            "Epoch 1/45\n",
            "214/217 [============================>.] - ETA: 0s - loss: 0.4863"
          ]
        },
        {
          "output_type": "stream",
          "name": "stderr",
          "text": [
            "WARNING:tensorflow:Can save best model only with val_loss available, skipping.\n"
          ]
        },
        {
          "output_type": "stream",
          "name": "stdout",
          "text": [
            "\b\b\b\b\b\b\b\b\b\b\b\b\b\b\b\b\b\b\b\b\b\b\b\b\b\b\b\b\b\b\b\b\b\b\b\b\b\b\b\b\b\b\b\b\b\b\b\b\b\b\b\b\b\b\b\b\b\b\b\b\b\b\b\b\b\r217/217 [==============================] - 3s 4ms/step - loss: 0.4841\n",
            "Epoch 2/45\n",
            "209/217 [===========================>..] - ETA: 0s - loss: 0.4813"
          ]
        },
        {
          "output_type": "stream",
          "name": "stderr",
          "text": [
            "WARNING:tensorflow:Can save best model only with val_loss available, skipping.\n"
          ]
        },
        {
          "output_type": "stream",
          "name": "stdout",
          "text": [
            "\b\b\b\b\b\b\b\b\b\b\b\b\b\b\b\b\b\b\b\b\b\b\b\b\b\b\b\b\b\b\b\b\b\b\b\b\b\b\b\b\b\b\b\b\b\b\b\b\b\b\b\b\b\b\b\b\b\b\b\b\b\b\b\b\b\r217/217 [==============================] - 1s 6ms/step - loss: 0.4823\n",
            "Epoch 3/45\n",
            "216/217 [============================>.] - ETA: 0s - loss: 0.4783"
          ]
        },
        {
          "output_type": "stream",
          "name": "stderr",
          "text": [
            "WARNING:tensorflow:Can save best model only with val_loss available, skipping.\n"
          ]
        },
        {
          "output_type": "stream",
          "name": "stdout",
          "text": [
            "\b\b\b\b\b\b\b\b\b\b\b\b\b\b\b\b\b\b\b\b\b\b\b\b\b\b\b\b\b\b\b\b\b\b\b\b\b\b\b\b\b\b\b\b\b\b\b\b\b\b\b\b\b\b\b\b\b\b\b\b\b\b\b\b\b\r217/217 [==============================] - 1s 6ms/step - loss: 0.4762\n",
            "Epoch 4/45\n",
            "212/217 [============================>.] - ETA: 0s - loss: 0.4703"
          ]
        },
        {
          "output_type": "stream",
          "name": "stderr",
          "text": [
            "WARNING:tensorflow:Can save best model only with val_loss available, skipping.\n"
          ]
        },
        {
          "output_type": "stream",
          "name": "stdout",
          "text": [
            "\b\b\b\b\b\b\b\b\b\b\b\b\b\b\b\b\b\b\b\b\b\b\b\b\b\b\b\b\b\b\b\b\b\b\b\b\b\b\b\b\b\b\b\b\b\b\b\b\b\b\b\b\b\b\b\b\b\b\b\b\b\b\b\b\b\r217/217 [==============================] - 1s 5ms/step - loss: 0.4699\n",
            "Epoch 5/45\n",
            "206/217 [===========================>..] - ETA: 0s - loss: 0.4562"
          ]
        },
        {
          "output_type": "stream",
          "name": "stderr",
          "text": [
            "WARNING:tensorflow:Can save best model only with val_loss available, skipping.\n"
          ]
        },
        {
          "output_type": "stream",
          "name": "stdout",
          "text": [
            "\b\b\b\b\b\b\b\b\b\b\b\b\b\b\b\b\b\b\b\b\b\b\b\b\b\b\b\b\b\b\b\b\b\b\b\b\b\b\b\b\b\b\b\b\b\b\b\b\b\b\b\b\b\b\b\b\b\b\b\b\b\b\b\b\b\r217/217 [==============================] - 1s 4ms/step - loss: 0.4600\n",
            "Epoch 6/45\n",
            "206/217 [===========================>..] - ETA: 0s - loss: 0.4431"
          ]
        },
        {
          "output_type": "stream",
          "name": "stderr",
          "text": [
            "WARNING:tensorflow:Can save best model only with val_loss available, skipping.\n"
          ]
        },
        {
          "output_type": "stream",
          "name": "stdout",
          "text": [
            "\b\b\b\b\b\b\b\b\b\b\b\b\b\b\b\b\b\b\b\b\b\b\b\b\b\b\b\b\b\b\b\b\b\b\b\b\b\b\b\b\b\b\b\b\b\b\b\b\b\b\b\b\b\b\b\b\b\b\b\b\b\b\b\b\b\r217/217 [==============================] - 1s 5ms/step - loss: 0.4466\n",
            "Epoch 7/45\n",
            "217/217 [==============================] - ETA: 0s - loss: 0.4324"
          ]
        },
        {
          "output_type": "stream",
          "name": "stderr",
          "text": [
            "WARNING:tensorflow:Can save best model only with val_loss available, skipping.\n"
          ]
        },
        {
          "output_type": "stream",
          "name": "stdout",
          "text": [
            "\b\b\b\b\b\b\b\b\b\b\b\b\b\b\b\b\b\b\b\b\b\b\b\b\b\b\b\b\b\b\b\b\b\b\b\b\b\b\b\b\b\b\b\b\b\b\b\b\b\b\b\b\b\b\b\b\b\b\b\b\b\b\b\b\b\r217/217 [==============================] - 1s 5ms/step - loss: 0.4324\n",
            "Epoch 8/45\n",
            "214/217 [============================>.] - ETA: 0s - loss: 0.4095"
          ]
        },
        {
          "output_type": "stream",
          "name": "stderr",
          "text": [
            "WARNING:tensorflow:Can save best model only with val_loss available, skipping.\n"
          ]
        },
        {
          "output_type": "stream",
          "name": "stdout",
          "text": [
            "\b\b\b\b\b\b\b\b\b\b\b\b\b\b\b\b\b\b\b\b\b\b\b\b\b\b\b\b\b\b\b\b\b\b\b\b\b\b\b\b\b\b\b\b\b\b\b\b\b\b\b\b\b\b\b\b\b\b\b\b\b\b\b\b\b\r217/217 [==============================] - 1s 4ms/step - loss: 0.4118\n",
            "Epoch 9/45\n",
            "217/217 [==============================] - ETA: 0s - loss: 0.3903"
          ]
        },
        {
          "output_type": "stream",
          "name": "stderr",
          "text": [
            "WARNING:tensorflow:Can save best model only with val_loss available, skipping.\n"
          ]
        },
        {
          "output_type": "stream",
          "name": "stdout",
          "text": [
            "\b\b\b\b\b\b\b\b\b\b\b\b\b\b\b\b\b\b\b\b\b\b\b\b\b\b\b\b\b\b\b\b\b\b\b\b\b\b\b\b\b\b\b\b\b\b\b\b\b\b\b\b\b\b\b\b\b\b\b\b\b\b\b\b\b\r217/217 [==============================] - 1s 5ms/step - loss: 0.3903\n",
            "Epoch 10/45\n",
            "216/217 [============================>.] - ETA: 0s - loss: 0.3765"
          ]
        },
        {
          "output_type": "stream",
          "name": "stderr",
          "text": [
            "WARNING:tensorflow:Can save best model only with val_loss available, skipping.\n"
          ]
        },
        {
          "output_type": "stream",
          "name": "stdout",
          "text": [
            "\b\b\b\b\b\b\b\b\b\b\b\b\b\b\b\b\b\b\b\b\b\b\b\b\b\b\b\b\b\b\b\b\b\b\b\b\b\b\b\b\b\b\b\b\b\b\b\b\b\b\b\b\b\b\b\b\b\b\b\b\b\b\b\b\b\r217/217 [==============================] - 1s 4ms/step - loss: 0.3765\n",
            "Epoch 11/45\n",
            "211/217 [============================>.] - ETA: 0s - loss: 0.3580"
          ]
        },
        {
          "output_type": "stream",
          "name": "stderr",
          "text": [
            "WARNING:tensorflow:Can save best model only with val_loss available, skipping.\n"
          ]
        },
        {
          "output_type": "stream",
          "name": "stdout",
          "text": [
            "\b\b\b\b\b\b\b\b\b\b\b\b\b\b\b\b\b\b\b\b\b\b\b\b\b\b\b\b\b\b\b\b\b\b\b\b\b\b\b\b\b\b\b\b\b\b\b\b\b\b\b\b\b\b\b\b\b\b\b\b\b\b\b\b\b\r217/217 [==============================] - 1s 4ms/step - loss: 0.3580\n",
            "Epoch 12/45\n",
            "206/217 [===========================>..] - ETA: 0s - loss: 0.3368"
          ]
        },
        {
          "output_type": "stream",
          "name": "stderr",
          "text": [
            "WARNING:tensorflow:Can save best model only with val_loss available, skipping.\n"
          ]
        },
        {
          "output_type": "stream",
          "name": "stdout",
          "text": [
            "\b\b\b\b\b\b\b\b\b\b\b\b\b\b\b\b\b\b\b\b\b\b\b\b\b\b\b\b\b\b\b\b\b\b\b\b\b\b\b\b\b\b\b\b\b\b\b\b\b\b\b\b\b\b\b\b\b\b\b\b\b\b\b\b\b\r217/217 [==============================] - 1s 4ms/step - loss: 0.3364\n",
            "Epoch 13/45\n",
            "206/217 [===========================>..] - ETA: 0s - loss: 0.3209"
          ]
        },
        {
          "output_type": "stream",
          "name": "stderr",
          "text": [
            "WARNING:tensorflow:Can save best model only with val_loss available, skipping.\n"
          ]
        },
        {
          "output_type": "stream",
          "name": "stdout",
          "text": [
            "\b\b\b\b\b\b\b\b\b\b\b\b\b\b\b\b\b\b\b\b\b\b\b\b\b\b\b\b\b\b\b\b\b\b\b\b\b\b\b\b\b\b\b\b\b\b\b\b\b\b\b\b\b\b\b\b\b\b\b\b\b\b\b\b\b\r217/217 [==============================] - 1s 5ms/step - loss: 0.3228\n",
            "Epoch 14/45\n",
            "217/217 [==============================] - ETA: 0s - loss: 0.3128"
          ]
        },
        {
          "output_type": "stream",
          "name": "stderr",
          "text": [
            "WARNING:tensorflow:Can save best model only with val_loss available, skipping.\n"
          ]
        },
        {
          "output_type": "stream",
          "name": "stdout",
          "text": [
            "\b\b\b\b\b\b\b\b\b\b\b\b\b\b\b\b\b\b\b\b\b\b\b\b\b\b\b\b\b\b\b\b\b\b\b\b\b\b\b\b\b\b\b\b\b\b\b\b\b\b\b\b\b\b\b\b\b\b\b\b\b\b\b\b\b\r217/217 [==============================] - 1s 6ms/step - loss: 0.3128\n",
            "Epoch 15/45\n",
            "211/217 [============================>.] - ETA: 0s - loss: 0.2955"
          ]
        },
        {
          "output_type": "stream",
          "name": "stderr",
          "text": [
            "WARNING:tensorflow:Can save best model only with val_loss available, skipping.\n"
          ]
        },
        {
          "output_type": "stream",
          "name": "stdout",
          "text": [
            "\b\b\b\b\b\b\b\b\b\b\b\b\b\b\b\b\b\b\b\b\b\b\b\b\b\b\b\b\b\b\b\b\b\b\b\b\b\b\b\b\b\b\b\b\b\b\b\b\b\b\b\b\b\b\b\b\b\b\b\b\b\b\b\b\b\r217/217 [==============================] - 1s 6ms/step - loss: 0.2948\n",
            "Epoch 16/45\n",
            "216/217 [============================>.] - ETA: 0s - loss: 0.2889"
          ]
        },
        {
          "output_type": "stream",
          "name": "stderr",
          "text": [
            "WARNING:tensorflow:Can save best model only with val_loss available, skipping.\n"
          ]
        },
        {
          "output_type": "stream",
          "name": "stdout",
          "text": [
            "\b\b\b\b\b\b\b\b\b\b\b\b\b\b\b\b\b\b\b\b\b\b\b\b\b\b\b\b\b\b\b\b\b\b\b\b\b\b\b\b\b\b\b\b\b\b\b\b\b\b\b\b\b\b\b\b\b\b\b\b\b\b\b\b\b\r217/217 [==============================] - 1s 4ms/step - loss: 0.2886\n",
            "Epoch 17/45\n",
            "214/217 [============================>.] - ETA: 0s - loss: 0.2732"
          ]
        },
        {
          "output_type": "stream",
          "name": "stderr",
          "text": [
            "WARNING:tensorflow:Can save best model only with val_loss available, skipping.\n"
          ]
        },
        {
          "output_type": "stream",
          "name": "stdout",
          "text": [
            "\b\b\b\b\b\b\b\b\b\b\b\b\b\b\b\b\b\b\b\b\b\b\b\b\b\b\b\b\b\b\b\b\b\b\b\b\b\b\b\b\b\b\b\b\b\b\b\b\b\b\b\b\b\b\b\b\b\b\b\b\b\b\b\b\b\r217/217 [==============================] - 1s 4ms/step - loss: 0.2725\n",
            "Epoch 18/45\n",
            "206/217 [===========================>..] - ETA: 0s - loss: 0.2670"
          ]
        },
        {
          "output_type": "stream",
          "name": "stderr",
          "text": [
            "WARNING:tensorflow:Can save best model only with val_loss available, skipping.\n"
          ]
        },
        {
          "output_type": "stream",
          "name": "stdout",
          "text": [
            "\b\b\b\b\b\b\b\b\b\b\b\b\b\b\b\b\b\b\b\b\b\b\b\b\b\b\b\b\b\b\b\b\b\b\b\b\b\b\b\b\b\b\b\b\b\b\b\b\b\b\b\b\b\b\b\b\b\b\b\b\b\b\b\b\b\r217/217 [==============================] - 1s 4ms/step - loss: 0.2661\n",
            "Epoch 19/45\n",
            "217/217 [==============================] - ETA: 0s - loss: 0.2622"
          ]
        },
        {
          "output_type": "stream",
          "name": "stderr",
          "text": [
            "WARNING:tensorflow:Can save best model only with val_loss available, skipping.\n"
          ]
        },
        {
          "output_type": "stream",
          "name": "stdout",
          "text": [
            "\b\b\b\b\b\b\b\b\b\b\b\b\b\b\b\b\b\b\b\b\b\b\b\b\b\b\b\b\b\b\b\b\b\b\b\b\b\b\b\b\b\b\b\b\b\b\b\b\b\b\b\b\b\b\b\b\b\b\b\b\b\b\b\b\b\r217/217 [==============================] - 1s 4ms/step - loss: 0.2622\n",
            "Epoch 20/45\n",
            "215/217 [============================>.] - ETA: 0s - loss: 0.2538"
          ]
        },
        {
          "output_type": "stream",
          "name": "stderr",
          "text": [
            "WARNING:tensorflow:Can save best model only with val_loss available, skipping.\n"
          ]
        },
        {
          "output_type": "stream",
          "name": "stdout",
          "text": [
            "\b\b\b\b\b\b\b\b\b\b\b\b\b\b\b\b\b\b\b\b\b\b\b\b\b\b\b\b\b\b\b\b\b\b\b\b\b\b\b\b\b\b\b\b\b\b\b\b\b\b\b\b\b\b\b\b\b\b\b\b\b\b\b\b\b\r217/217 [==============================] - 1s 4ms/step - loss: 0.2535\n",
            "Epoch 21/45\n",
            "214/217 [============================>.] - ETA: 0s - loss: 0.2441"
          ]
        },
        {
          "output_type": "stream",
          "name": "stderr",
          "text": [
            "WARNING:tensorflow:Can save best model only with val_loss available, skipping.\n"
          ]
        },
        {
          "output_type": "stream",
          "name": "stdout",
          "text": [
            "\b\b\b\b\b\b\b\b\b\b\b\b\b\b\b\b\b\b\b\b\b\b\b\b\b\b\b\b\b\b\b\b\b\b\b\b\b\b\b\b\b\b\b\b\b\b\b\b\b\b\b\b\b\b\b\b\b\b\b\b\b\b\b\b\b\r217/217 [==============================] - 1s 4ms/step - loss: 0.2439\n",
            "Epoch 22/45\n",
            "205/217 [===========================>..] - ETA: 0s - loss: 0.2413"
          ]
        },
        {
          "output_type": "stream",
          "name": "stderr",
          "text": [
            "WARNING:tensorflow:Can save best model only with val_loss available, skipping.\n"
          ]
        },
        {
          "output_type": "stream",
          "name": "stdout",
          "text": [
            "\b\b\b\b\b\b\b\b\b\b\b\b\b\b\b\b\b\b\b\b\b\b\b\b\b\b\b\b\b\b\b\b\b\b\b\b\b\b\b\b\b\b\b\b\b\b\b\b\b\b\b\b\b\b\b\b\b\b\b\b\b\b\b\b\b\r217/217 [==============================] - 1s 5ms/step - loss: 0.2391\n",
            "Epoch 23/45\n",
            "205/217 [===========================>..] - ETA: 0s - loss: 0.2374"
          ]
        },
        {
          "output_type": "stream",
          "name": "stderr",
          "text": [
            "WARNING:tensorflow:Can save best model only with val_loss available, skipping.\n"
          ]
        },
        {
          "output_type": "stream",
          "name": "stdout",
          "text": [
            "\b\b\b\b\b\b\b\b\b\b\b\b\b\b\b\b\b\b\b\b\b\b\b\b\b\b\b\b\b\b\b\b\b\b\b\b\b\b\b\b\b\b\b\b\b\b\b\b\b\b\b\b\b\b\b\b\b\b\b\b\b\b\b\b\b\r217/217 [==============================] - 1s 4ms/step - loss: 0.2361\n",
            "Epoch 24/45\n",
            "208/217 [===========================>..] - ETA: 0s - loss: 0.2226"
          ]
        },
        {
          "output_type": "stream",
          "name": "stderr",
          "text": [
            "WARNING:tensorflow:Can save best model only with val_loss available, skipping.\n"
          ]
        },
        {
          "output_type": "stream",
          "name": "stdout",
          "text": [
            "\b\b\b\b\b\b\b\b\b\b\b\b\b\b\b\b\b\b\b\b\b\b\b\b\b\b\b\b\b\b\b\b\b\b\b\b\b\b\b\b\b\b\b\b\b\b\b\b\b\b\b\b\b\b\b\b\b\b\b\b\b\b\b\b\b\r217/217 [==============================] - 1s 5ms/step - loss: 0.2238\n",
            "Epoch 25/45\n",
            "214/217 [============================>.] - ETA: 0s - loss: 0.2194"
          ]
        },
        {
          "output_type": "stream",
          "name": "stderr",
          "text": [
            "WARNING:tensorflow:Can save best model only with val_loss available, skipping.\n"
          ]
        },
        {
          "output_type": "stream",
          "name": "stdout",
          "text": [
            "\b\b\b\b\b\b\b\b\b\b\b\b\b\b\b\b\b\b\b\b\b\b\b\b\b\b\b\b\b\b\b\b\b\b\b\b\b\b\b\b\b\b\b\b\b\b\b\b\b\b\b\b\b\b\b\b\b\b\b\b\b\b\b\b\b\r217/217 [==============================] - 1s 4ms/step - loss: 0.2189\n",
            "Epoch 26/45\n",
            "213/217 [============================>.] - ETA: 0s - loss: 0.2171"
          ]
        },
        {
          "output_type": "stream",
          "name": "stderr",
          "text": [
            "WARNING:tensorflow:Can save best model only with val_loss available, skipping.\n"
          ]
        },
        {
          "output_type": "stream",
          "name": "stdout",
          "text": [
            "\b\b\b\b\b\b\b\b\b\b\b\b\b\b\b\b\b\b\b\b\b\b\b\b\b\b\b\b\b\b\b\b\b\b\b\b\b\b\b\b\b\b\b\b\b\b\b\b\b\b\b\b\b\b\b\b\b\b\b\b\b\b\b\b\b\r217/217 [==============================] - 1s 6ms/step - loss: 0.2174\n",
            "Epoch 27/45\n",
            "215/217 [============================>.] - ETA: 0s - loss: 0.2040"
          ]
        },
        {
          "output_type": "stream",
          "name": "stderr",
          "text": [
            "WARNING:tensorflow:Can save best model only with val_loss available, skipping.\n"
          ]
        },
        {
          "output_type": "stream",
          "name": "stdout",
          "text": [
            "\b\b\b\b\b\b\b\b\b\b\b\b\b\b\b\b\b\b\b\b\b\b\b\b\b\b\b\b\b\b\b\b\b\b\b\b\b\b\b\b\b\b\b\b\b\b\b\b\b\b\b\b\b\b\b\b\b\b\b\b\b\b\b\b\b\r217/217 [==============================] - 1s 6ms/step - loss: 0.2037\n",
            "Epoch 28/45\n",
            "207/217 [===========================>..] - ETA: 0s - loss: 0.2085"
          ]
        },
        {
          "output_type": "stream",
          "name": "stderr",
          "text": [
            "WARNING:tensorflow:Can save best model only with val_loss available, skipping.\n"
          ]
        },
        {
          "output_type": "stream",
          "name": "stdout",
          "text": [
            "\b\b\b\b\b\b\b\b\b\b\b\b\b\b\b\b\b\b\b\b\b\b\b\b\b\b\b\b\b\b\b\b\b\b\b\b\b\b\b\b\b\b\b\b\b\b\b\b\b\b\b\b\b\b\b\b\b\b\b\b\b\b\b\b\b\r217/217 [==============================] - 1s 5ms/step - loss: 0.2081\n",
            "Epoch 29/45\n",
            "211/217 [============================>.] - ETA: 0s - loss: 0.1972"
          ]
        },
        {
          "output_type": "stream",
          "name": "stderr",
          "text": [
            "WARNING:tensorflow:Can save best model only with val_loss available, skipping.\n"
          ]
        },
        {
          "output_type": "stream",
          "name": "stdout",
          "text": [
            "\b\b\b\b\b\b\b\b\b\b\b\b\b\b\b\b\b\b\b\b\b\b\b\b\b\b\b\b\b\b\b\b\b\b\b\b\b\b\b\b\b\b\b\b\b\b\b\b\b\b\b\b\b\b\b\b\b\b\b\b\b\b\b\b\b\r217/217 [==============================] - 1s 4ms/step - loss: 0.1960\n",
            "Epoch 30/45\n",
            "214/217 [============================>.] - ETA: 0s - loss: 0.1950"
          ]
        },
        {
          "output_type": "stream",
          "name": "stderr",
          "text": [
            "WARNING:tensorflow:Can save best model only with val_loss available, skipping.\n"
          ]
        },
        {
          "output_type": "stream",
          "name": "stdout",
          "text": [
            "\b\b\b\b\b\b\b\b\b\b\b\b\b\b\b\b\b\b\b\b\b\b\b\b\b\b\b\b\b\b\b\b\b\b\b\b\b\b\b\b\b\b\b\b\b\b\b\b\b\b\b\b\b\b\b\b\b\b\b\b\b\b\b\b\b\r217/217 [==============================] - 1s 4ms/step - loss: 0.1954\n",
            "Epoch 31/45\n",
            "212/217 [============================>.] - ETA: 0s - loss: 0.1900"
          ]
        },
        {
          "output_type": "stream",
          "name": "stderr",
          "text": [
            "WARNING:tensorflow:Can save best model only with val_loss available, skipping.\n"
          ]
        },
        {
          "output_type": "stream",
          "name": "stdout",
          "text": [
            "\b\b\b\b\b\b\b\b\b\b\b\b\b\b\b\b\b\b\b\b\b\b\b\b\b\b\b\b\b\b\b\b\b\b\b\b\b\b\b\b\b\b\b\b\b\b\b\b\b\b\b\b\b\b\b\b\b\b\b\b\b\b\b\b\b\r217/217 [==============================] - 1s 5ms/step - loss: 0.1903\n",
            "Epoch 32/45\n",
            "214/217 [============================>.] - ETA: 0s - loss: 0.1810"
          ]
        },
        {
          "output_type": "stream",
          "name": "stderr",
          "text": [
            "WARNING:tensorflow:Can save best model only with val_loss available, skipping.\n"
          ]
        },
        {
          "output_type": "stream",
          "name": "stdout",
          "text": [
            "\b\b\b\b\b\b\b\b\b\b\b\b\b\b\b\b\b\b\b\b\b\b\b\b\b\b\b\b\b\b\b\b\b\b\b\b\b\b\b\b\b\b\b\b\b\b\b\b\b\b\b\b\b\b\b\b\b\b\b\b\b\b\b\b\b\r217/217 [==============================] - 1s 5ms/step - loss: 0.1801\n",
            "Epoch 33/45\n",
            "216/217 [============================>.] - ETA: 0s - loss: 0.1764"
          ]
        },
        {
          "output_type": "stream",
          "name": "stderr",
          "text": [
            "WARNING:tensorflow:Can save best model only with val_loss available, skipping.\n"
          ]
        },
        {
          "output_type": "stream",
          "name": "stdout",
          "text": [
            "\b\b\b\b\b\b\b\b\b\b\b\b\b\b\b\b\b\b\b\b\b\b\b\b\b\b\b\b\b\b\b\b\b\b\b\b\b\b\b\b\b\b\b\b\b\b\b\b\b\b\b\b\b\b\b\b\b\b\b\b\b\b\b\b\b\r217/217 [==============================] - 1s 5ms/step - loss: 0.1764\n",
            "Epoch 34/45\n",
            "212/217 [============================>.] - ETA: 0s - loss: 0.1780"
          ]
        },
        {
          "output_type": "stream",
          "name": "stderr",
          "text": [
            "WARNING:tensorflow:Can save best model only with val_loss available, skipping.\n"
          ]
        },
        {
          "output_type": "stream",
          "name": "stdout",
          "text": [
            "\b\b\b\b\b\b\b\b\b\b\b\b\b\b\b\b\b\b\b\b\b\b\b\b\b\b\b\b\b\b\b\b\b\b\b\b\b\b\b\b\b\b\b\b\b\b\b\b\b\b\b\b\b\b\b\b\b\b\b\b\b\b\b\b\b\r217/217 [==============================] - 1s 4ms/step - loss: 0.1771\n",
            "Epoch 35/45\n",
            "207/217 [===========================>..] - ETA: 0s - loss: 0.1733"
          ]
        },
        {
          "output_type": "stream",
          "name": "stderr",
          "text": [
            "WARNING:tensorflow:Can save best model only with val_loss available, skipping.\n"
          ]
        },
        {
          "output_type": "stream",
          "name": "stdout",
          "text": [
            "\b\b\b\b\b\b\b\b\b\b\b\b\b\b\b\b\b\b\b\b\b\b\b\b\b\b\b\b\b\b\b\b\b\b\b\b\b\b\b\b\b\b\b\b\b\b\b\b\b\b\b\b\b\b\b\b\b\b\b\b\b\b\b\b\b\r217/217 [==============================] - 1s 5ms/step - loss: 0.1726\n",
            "Epoch 36/45\n",
            "207/217 [===========================>..] - ETA: 0s - loss: 0.1699"
          ]
        },
        {
          "output_type": "stream",
          "name": "stderr",
          "text": [
            "WARNING:tensorflow:Can save best model only with val_loss available, skipping.\n"
          ]
        },
        {
          "output_type": "stream",
          "name": "stdout",
          "text": [
            "\b\b\b\b\b\b\b\b\b\b\b\b\b\b\b\b\b\b\b\b\b\b\b\b\b\b\b\b\b\b\b\b\b\b\b\b\b\b\b\b\b\b\b\b\b\b\b\b\b\b\b\b\b\b\b\b\b\b\b\b\b\b\b\b\b\r217/217 [==============================] - 1s 5ms/step - loss: 0.1700\n",
            "Epoch 37/45\n",
            "213/217 [============================>.] - ETA: 0s - loss: 0.1597"
          ]
        },
        {
          "output_type": "stream",
          "name": "stderr",
          "text": [
            "WARNING:tensorflow:Can save best model only with val_loss available, skipping.\n"
          ]
        },
        {
          "output_type": "stream",
          "name": "stdout",
          "text": [
            "\b\b\b\b\b\b\b\b\b\b\b\b\b\b\b\b\b\b\b\b\b\b\b\b\b\b\b\b\b\b\b\b\b\b\b\b\b\b\b\b\b\b\b\b\b\b\b\b\b\b\b\b\b\b\b\b\b\b\b\b\b\b\b\b\b\r217/217 [==============================] - 1s 4ms/step - loss: 0.1593\n",
            "Epoch 38/45\n",
            "211/217 [============================>.] - ETA: 0s - loss: 0.1581"
          ]
        },
        {
          "output_type": "stream",
          "name": "stderr",
          "text": [
            "WARNING:tensorflow:Can save best model only with val_loss available, skipping.\n"
          ]
        },
        {
          "output_type": "stream",
          "name": "stdout",
          "text": [
            "\b\b\b\b\b\b\b\b\b\b\b\b\b\b\b\b\b\b\b\b\b\b\b\b\b\b\b\b\b\b\b\b\b\b\b\b\b\b\b\b\b\b\b\b\b\b\b\b\b\b\b\b\b\b\b\b\b\b\b\b\b\b\b\b\b\r217/217 [==============================] - 1s 6ms/step - loss: 0.1589\n",
            "Epoch 39/45\n",
            "206/217 [===========================>..] - ETA: 0s - loss: 0.1601"
          ]
        },
        {
          "output_type": "stream",
          "name": "stderr",
          "text": [
            "WARNING:tensorflow:Can save best model only with val_loss available, skipping.\n"
          ]
        },
        {
          "output_type": "stream",
          "name": "stdout",
          "text": [
            "\b\b\b\b\b\b\b\b\b\b\b\b\b\b\b\b\b\b\b\b\b\b\b\b\b\b\b\b\b\b\b\b\b\b\b\b\b\b\b\b\b\b\b\b\b\b\b\b\b\b\b\b\b\b\b\b\b\b\b\b\b\b\b\b\b\r217/217 [==============================] - 1s 6ms/step - loss: 0.1596\n",
            "Epoch 40/45\n",
            "212/217 [============================>.] - ETA: 0s - loss: 0.1540"
          ]
        },
        {
          "output_type": "stream",
          "name": "stderr",
          "text": [
            "WARNING:tensorflow:Can save best model only with val_loss available, skipping.\n"
          ]
        },
        {
          "output_type": "stream",
          "name": "stdout",
          "text": [
            "\b\b\b\b\b\b\b\b\b\b\b\b\b\b\b\b\b\b\b\b\b\b\b\b\b\b\b\b\b\b\b\b\b\b\b\b\b\b\b\b\b\b\b\b\b\b\b\b\b\b\b\b\b\b\b\b\b\b\b\b\b\b\b\b\b\r217/217 [==============================] - 1s 4ms/step - loss: 0.1535\n",
            "Epoch 41/45\n",
            "209/217 [===========================>..] - ETA: 0s - loss: 0.1480"
          ]
        },
        {
          "output_type": "stream",
          "name": "stderr",
          "text": [
            "WARNING:tensorflow:Can save best model only with val_loss available, skipping.\n"
          ]
        },
        {
          "output_type": "stream",
          "name": "stdout",
          "text": [
            "\b\b\b\b\b\b\b\b\b\b\b\b\b\b\b\b\b\b\b\b\b\b\b\b\b\b\b\b\b\b\b\b\b\b\b\b\b\b\b\b\b\b\b\b\b\b\b\b\b\b\b\b\b\b\b\b\b\b\b\b\b\b\b\b\b\r217/217 [==============================] - 1s 4ms/step - loss: 0.1471\n",
            "Epoch 42/45\n",
            "211/217 [============================>.] - ETA: 0s - loss: 0.1429"
          ]
        },
        {
          "output_type": "stream",
          "name": "stderr",
          "text": [
            "WARNING:tensorflow:Can save best model only with val_loss available, skipping.\n"
          ]
        },
        {
          "output_type": "stream",
          "name": "stdout",
          "text": [
            "\b\b\b\b\b\b\b\b\b\b\b\b\b\b\b\b\b\b\b\b\b\b\b\b\b\b\b\b\b\b\b\b\b\b\b\b\b\b\b\b\b\b\b\b\b\b\b\b\b\b\b\b\b\b\b\b\b\b\b\b\b\b\b\b\b\r217/217 [==============================] - 1s 4ms/step - loss: 0.1436\n",
            "Epoch 43/45\n",
            "216/217 [============================>.] - ETA: 0s - loss: 0.1412"
          ]
        },
        {
          "output_type": "stream",
          "name": "stderr",
          "text": [
            "WARNING:tensorflow:Can save best model only with val_loss available, skipping.\n"
          ]
        },
        {
          "output_type": "stream",
          "name": "stdout",
          "text": [
            "\b\b\b\b\b\b\b\b\b\b\b\b\b\b\b\b\b\b\b\b\b\b\b\b\b\b\b\b\b\b\b\b\b\b\b\b\b\b\b\b\b\b\b\b\b\b\b\b\b\b\b\b\b\b\b\b\b\b\b\b\b\b\b\b\b\r217/217 [==============================] - 1s 5ms/step - loss: 0.1411\n",
            "Epoch 44/45\n",
            "212/217 [============================>.] - ETA: 0s - loss: 0.1432"
          ]
        },
        {
          "output_type": "stream",
          "name": "stderr",
          "text": [
            "WARNING:tensorflow:Can save best model only with val_loss available, skipping.\n"
          ]
        },
        {
          "output_type": "stream",
          "name": "stdout",
          "text": [
            "\b\b\b\b\b\b\b\b\b\b\b\b\b\b\b\b\b\b\b\b\b\b\b\b\b\b\b\b\b\b\b\b\b\b\b\b\b\b\b\b\b\b\b\b\b\b\b\b\b\b\b\b\b\b\b\b\b\b\b\b\b\b\b\b\b\r217/217 [==============================] - 1s 4ms/step - loss: 0.1439\n",
            "Epoch 45/45\n",
            "215/217 [============================>.] - ETA: 0s - loss: 0.1340"
          ]
        },
        {
          "output_type": "stream",
          "name": "stderr",
          "text": [
            "WARNING:tensorflow:Can save best model only with val_loss available, skipping.\n"
          ]
        },
        {
          "output_type": "stream",
          "name": "stdout",
          "text": [
            "\b\b\b\b\b\b\b\b\b\b\b\b\b\b\b\b\b\b\b\b\b\b\b\b\b\b\b\b\b\b\b\b\b\b\b\b\b\b\b\b\b\b\b\b\b\b\b\b\b\b\b\b\b\b\b\b\b\b\b\b\b\b\b\b\b\r217/217 [==============================] - 1s 4ms/step - loss: 0.1335\n"
          ]
        }
      ],
      "source": [
        "model_checkpoint_callback_1 = tf.keras.callbacks.ModelCheckpoint(\n",
        "    filepath='best_model_1.hdf5',\n",
        "    save_weights_only=True,\n",
        "    monitor='val_loss',\n",
        "    mode='min',\n",
        "    save_best_only=True)\n",
        "\n",
        "history = model.fit(\t[pairTrain[0],pairTrain[1], t_train, labelTrain, y_train],\n",
        "\t#validation_data=[pairTest,t_test,labelTest,y_test],\n",
        "\tbatch_size= utils.batch_size, \n",
        "\tepochs= utils.epochs ,\n",
        "  callbacks=[model_checkpoint_callback_1], verbose=1)\n"
      ]
    },
    {
      "cell_type": "code",
      "source": [
        "a=\t[pairTrain, t_train, labelTrain, y_train]\n",
        "\n",
        "print(a[3])\n"
      ],
      "metadata": {
        "colab": {
          "base_uri": "https://localhost:8080/"
        },
        "id": "NBephlw2f2xe",
        "outputId": "6eba9a29-2b68-4e67-8469-1ad1bada9010"
      },
      "execution_count": null,
      "outputs": [
        {
          "output_type": "stream",
          "name": "stdout",
          "text": [
            "[1 1 0 ... 0 1 1]\n"
          ]
        }
      ]
    },
    {
      "cell_type": "markdown",
      "metadata": {
        "id": "Wd4opAII8i4D"
      },
      "source": [
        "#6- Resultados"
      ]
    },
    {
      "cell_type": "markdown",
      "metadata": {
        "id": "ihF51EWbEuK1"
      },
      "source": [
        "##En base a transformacion de la clase"
      ]
    },
    {
      "cell_type": "code",
      "execution_count": null,
      "metadata": {
        "colab": {
          "base_uri": "https://localhost:8080/",
          "height": 1000
        },
        "id": "K-Gvtg74AwFv",
        "outputId": "c9f4d586-38b0-4355-cac2-4b8811fb5ab1"
      },
      "outputs": [
        {
          "output_type": "stream",
          "name": "stdout",
          "text": [
            "44/44 [==============================] - 0s 2ms/step\n"
          ]
        },
        {
          "output_type": "stream",
          "name": "stderr",
          "text": [
            "/usr/local/lib/python3.8/dist-packages/numpy/core/fromnumeric.py:3199: VisibleDeprecationWarning: Creating an ndarray from ragged nested sequences (which is a list-or-tuple of lists-or-tuples-or ndarrays with different lengths or shapes) is deprecated. If you meant to do this, you must specify 'dtype=object' when creating the ndarray.\n",
            "  return asarray(a).ndim\n"
          ]
        },
        {
          "output_type": "execute_result",
          "data": {
            "text/plain": [
              "array([<AxesSubplot:title={'center':'Uplift by percentile\\nweighted average uplift = 0.0540'}>,\n",
              "       <AxesSubplot:title={'center':'Response rate by percentile'}, xlabel='Percentile'>],\n",
              "      dtype=object)"
            ]
          },
          "metadata": {},
          "execution_count": 95
        },
        {
          "output_type": "display_data",
          "data": {
            "text/plain": [
              "<Figure size 432x288 with 1 Axes>"
            ],
            "image/png": "[encoded data removed]"
          },
          "metadata": {
            "needs_background": "light"
          }
        },
        {
          "output_type": "display_data",
          "data": {
            "text/plain": [
              "<Figure size 432x288 with 1 Axes>"
            ],
            "image/png": "[encoded data removed]"
          },
          "metadata": {
            "needs_background": "light"
          }
        },
        {
          "output_type": "display_data",
          "data": {
            "text/plain": [
              "<Figure size 576x432 with 2 Axes>"
            ],
            "image/png": "[encoded data removed]"
          },
          "metadata": {
            "needs_background": "light"
          }
        }
      ],
      "source": [
        "ul_ = model.predict([pairTest_to_pred,t_to_pred,labelTest_to_pred,y_to_pred])\n",
        "\n",
        "\n",
        "\n",
        "ul_ = utils.clean_list( ul_[0].copy() )\n",
        "\n",
        "\n",
        "data = {'y_to_pred': y_to_pred, 'uplift': ul_ , 'treatment':t_to_pred}\n",
        "data = pd.DataFrame(data)  \n",
        "\n",
        "qini = qini_auc_score(y_true=data['y_to_pred'], uplift=data['uplift'], treatment=data['treatment'])\n",
        "data.sort_values( by=['uplift'] )\n",
        "plot_qini_curve(y_true=data['y_to_pred'], uplift=data['uplift'], treatment=data['treatment'])\n",
        "plot_uplift_curve(y_true=data['y_to_pred'], uplift=data['uplift'], treatment=data['treatment'])\n",
        "plot_uplift_by_percentile(y_true=data['y_to_pred'], uplift=data['uplift'], treatment=data['treatment'],kind='bar')\n"
      ]
    },
    {
      "cell_type": "code",
      "source": [
        "data.shape"
      ],
      "metadata": {
        "colab": {
          "base_uri": "https://localhost:8080/"
        },
        "id": "Yv6tbx6udjWF",
        "outputId": "73f9be48-616d-4567-9d88-19c58e95b2da"
      },
      "execution_count": null,
      "outputs": [
        {
          "output_type": "execute_result",
          "data": {
            "text/plain": [
              "(1399, 3)"
            ]
          },
          "metadata": {},
          "execution_count": 24
        }
      ]
    },
    {
      "cell_type": "code",
      "source": [
        "print(qini)"
      ],
      "metadata": {
        "colab": {
          "base_uri": "https://localhost:8080/"
        },
        "id": "oLVNA3pbYCe4",
        "outputId": "44a5bff0-014f-42cd-ff41-5e0825deb784"
      },
      "execution_count": null,
      "outputs": [
        {
          "output_type": "stream",
          "name": "stdout",
          "text": [
            "-0.19584385935569423\n"
          ]
        }
      ]
    }
  ],
  "metadata": {
    "accelerator": "GPU",
    "colab": {
      "collapsed_sections": [
        "zzWJISbYXOVS",
        "JuuCQRZ9jDo5",
        "WOcOMtiJnZ2t",
        "8MQjwUqj27vC",
        "lvyrNynKrv8q",
        "wKNo10uMvioM",
        "yeBXA8NQAew5",
        "7MarQ6_S4Xws"
      ],
      "provenance": []
    },
    "kernelspec": {
      "display_name": "Python 3 (ipykernel)",
      "language": "python",
      "name": "python3"
    },
    "language_info": {
      "codemirror_mode": {
        "name": "ipython",
        "version": 3
      },
      "file_extension": ".py",
      "mimetype": "text/x-python",
      "name": "python",
      "nbconvert_exporter": "python",
      "pygments_lexer": "ipython3",
      "version": "3.8.13"
    }
  },
  "nbformat": 4,
  "nbformat_minor": 0
}